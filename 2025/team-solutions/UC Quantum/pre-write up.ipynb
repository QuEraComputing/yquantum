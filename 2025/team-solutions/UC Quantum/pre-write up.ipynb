{
 "cells": [
  {
   "cell_type": "markdown",
   "id": "ad415b12a3178289",
   "metadata": {},
   "source": [
    "# Designing and Testing Hardware-Complementary Quantum Circuits\n",
    "\n",
    "In this notebook, we aim to explore differences between three specific but equivalent circuits on QuEra's natural atom platform. "
   ]
  },
  {
   "cell_type": "markdown",
   "id": "e2a50530",
   "metadata": {},
   "source": [
    "One key quality of quantum computing is entanglement. How would the maximumly entangled state look like?\n",
    "\n",
    "That state is known as the GHZ (Greenberger–Horne–Zeilinger) state. For $N$ qubits, it is defined as:\n",
    "\n",
    "$$ |GHZ\\rangle = \\frac{1}{\\sqrt{2}} (|0\\rangle^{\\otimes N} + |1\\rangle^{\\otimes N}) = \\frac{1}{\\sqrt{2}} (|00...0\\rangle + |11...1\\rangle) $$\n",
    "\n",
    "This state represents a superposition where all qubits are either in the state $|0\\rangle$ or all are in the state $|1\\rangle$.\n",
    "\n",
    "For the purpose of our tutorial, we will consider the case when $N$ is a power of 2. \n",
    "\n",
    "The simplest way to achieve this state is perhaps with a single Hadamard and expand it to all the qubits, one by one. \n",
    "\n",
    "Let's initialize by importing the relevant python packages. "
   ]
  },
  {
   "cell_type": "code",
   "execution_count": null,
   "id": "ba345b63",
   "metadata": {},
   "outputs": [],
   "source": [
    "import math\n",
    "\n",
    "from bloqade import qasm2\n",
    "from kirin.dialects import ilist"
   ]
  },
  {
   "metadata": {},
   "cell_type": "markdown",
   "source": "Apply Hadamard to the first qubit of the register,",
   "id": "1ff3da3c6d09d3bc"
  },
  {
   "cell_type": "code",
   "execution_count": null,
   "id": "47c0313f",
   "metadata": {},
   "outputs": [],
   "source": [
    "def ghz_linear(n: int):\n",
    "    n_qubits = int(2**n)\n",
    "\n",
    "    @qasm2.extended\n",
    "    def ghz_linear_program():\n",
    "\n",
    "        qreg = qasm2.qreg(n_qubits)\n",
    "        # Apply a Hadamard on the first qubit\n",
    "        qasm2.h(qreg[0])\n",
    "        # Create a cascading sequence of CX gates\n",
    "        # necessary for quantum computers that\n",
    "        # only have nearest-neighbor connectivity between qubits\n",
    "        for i in range(1, n_qubits):\n",
    "            qasm2.cx(qreg[i - 1], qreg[i])\n",
    "\n",
    "    return ghz_linear_program"
   ]
  },
  {
   "cell_type": "markdown",
   "id": "e8caf056",
   "metadata": {},
   "source": [
    "\"How would we change the circuit so that it would be equivalent as before?\" \n",
    "\n",
    "Here's a sneaky trick. A control gate is equivalent to a control z gate with a Hadamard gate on both ends of the target of control z gate. Graphically:"
   ]
  },
  {
   "metadata": {},
   "cell_type": "markdown",
   "source": [
    "# GHZPrep First Optimization\n",
    "The first optimization that we can make is to try to use global gates instead of local gates, wherever possible.\n",
    "<br>\n",
    "<br> Notice that if we expand every CNOT in the circuit, every qubit in the register will have a Hadamard gate as its first operation. If we replace all these single-qubit gates with just one global gate, substituting H for an equivalent U(pi/2, 0, pi) gate, then the circuit is now optimized.\n",
    "<br>\n",
    "There is still more potential for optimization!\n",
    "\n",
    "Now, what would happen if apply this equivalent changes to each of the control gate in circuit one?\n",
    "\n",
    "[graphics]\n",
    "\n",
    "Observe that, quite elegantly, a Hadamard gate can be found at the beginning of each line. This can be replaced *global* Hadamard gate: a Hadamard gate that strike all qubits at the same time. The proper implementation is a global/parallel U(pi/2, 0, pi) gate, but they are the same operation.\n",
    "<br>\n",
    "This is one occasion of QuEra's neutral atom hardware platform truly shines.\n",
    "\n",
    "After the global Hadamard gate, we are left with a sequence of Control-Z (CZ) gates, still arranged in a linear chain connecting adjacent qubits. For each qubit, Hadamard gates are applied after being the target for a first CZ, and before being the control bit for the second. While it may seem tempting to \"globalize\" the second set of hadamard gates, there are CZ gates between each one, so they are left alone.\n",
    "\n",
    "![First optimization](image/IMG_8645.jpg)\n"
   ],
   "id": "28f58daf07f39a00"
  },
  {
   "metadata": {},
   "cell_type": "code",
   "outputs": [],
   "execution_count": null,
   "source": [
    "from kirin.dialects import ilist\n",
    "from bloqade.qasm2.dialects import core, parallel # Import core dialect as well\n",
    "from bloqade import qasm2 as qasm2\n",
    "import math\n",
    "\n",
    "# Define an outer function that returns the decorated program\n",
    "def GHZ_global(n: int):\n",
    "    num_qubits_program = 2**n\n",
    "    @qasm2.extended\n",
    "    def parallel_hadamard_GHZprep(): # Define the actual program logic here\n",
    "\n",
    "        qreg = qasm2.qreg(num_qubits_program)\n",
    "\n",
    "        # Apply parallel U gate\n",
    "        qasm2.parallel.u(\n",
    "            list(qreg),    # Pass the list of qubits\n",
    "            theta=math.pi/2, # Specify the theta angle\n",
    "            phi=0,           # Specify the phi angle\n",
    "            lam=math.pi      # Specify the lambda angle\n",
    "        )\n",
    "\n",
    "        # Apply CZ and H gates sequentially\n",
    "        # Loop up to num_qubits_program\n",
    "        for i in range(1, num_qubits_program):\n",
    "            qasm2.cz(qreg[i - 1], qreg[i])\n",
    "            qasm2.h(qreg[i])\n",
    "\n",
    "        # No explicit return needed inside the decorated function\n",
    "\n",
    "    # Return the inner, decorated function object\n",
    "    return parallel_hadamard_GHZprep\n"
   ],
   "id": "8aab611a4235fbc4"
  },
  {
   "metadata": {},
   "cell_type": "markdown",
   "source": [
    "# GHZPrep Second Optimization\n",
    "The circuit which creates a GHZ state also has an alternate variant which greatly reduces its depth. The depth of a circuit is the number of time steps needed to execute the circuit to completion, which generally correlates with larger error the larger the depth is.\n",
    "<br><br>\n",
    "Here it can be reduced by changing the order in which CNOT gates are executed, allowing some to be done in parallel. Additionally, the same global-hadamard optimization can be made here. The circuit and a diagram are below.\n",
    "\n"
   ],
   "id": "16887dc71194a20e"
  },
  {
   "metadata": {},
   "cell_type": "code",
   "outputs": [],
   "execution_count": null,
   "source": "",
   "id": "c76d37c0d2823f21"
  }
 ],
 "metadata": {
  "kernelspec": {
   "display_name": "Python 3",
   "language": "python",
   "name": "python3"
  },
  "language_info": {
   "codemirror_mode": {
    "name": "ipython",
    "version": 2
   },
   "file_extension": ".py",
   "mimetype": "text/x-python",
   "name": "python",
   "nbconvert_exporter": "python",
   "pygments_lexer": "ipython2",
   "version": "2.7.6"
  }
 },
 "nbformat": 4,
 "nbformat_minor": 5
}
