{
  "cells": [
    {
      "cell_type": "markdown",
      "id": "d3402fba",
      "metadata": {
        "id": "d3402fba"
      },
      "source": [
        "# QFT Deployment on Neutral-Atom Systems\n",
        "The Quantum Fourier Transform (QFT) deployment tutorial demonstrates how to implement a QFT circuit using the Bloqade framework, with special emphasis on hardware-specific optimizations for neutral-atom quantum computers. The tutorial begins by outlining the canonical QFT circuit—which is typically defined with Hadamard gates, controlled-phase rotations, and a cascade of controlled operations—and explains how this standard formulation is not immediately native to neutral-atom devices. This motivates the need for decomposing non-native operations into a sequence of hardware-compatible gates and reorganizing the circuit structure to reveal parallelism opportunities.\n",
        "\n",
        "Central to the approach is the decomposition of the QFT circuit into neutral-atom native gates. Similar to the GHZ state preparation tutorial, non-native operations such as the CNOT are rewritten in terms of native operations. The tutorial leverages Bloqade’s extended QASM2 dialect by decorating functions with a custom compiler pass that uses Kirin’s rewriting tools. This pass automatically decomposes the circuit into the native gate set and optimizes the layout by grouping commuting operations together, thus exposing parallel execution paths. Barriers are strategically inserted to enforce constraints and guide the optimizer, ensuring that operations intended to be executed in parallel are properly aligned.\n",
        "\n",
        "By the end of this tutorial you will be able to:\n",
        "- Understand how to use parallelization on neutral atom computers\n",
        "- Develop neutral atom optimized quantum algorithms through the bloqade framework\n",
        "- Read a quantum computing circuit and be able to recognize the basic set of quantum gates needed to understand most quantum circuits readily available\n",
        "- Exploit quantum advantage and integrate it in larger scale applications\n"
      ]
    },
    {
      "cell_type": "markdown",
      "id": "qT4w-gLmtNgt",
      "metadata": {
        "id": "qT4w-gLmtNgt"
      },
      "source": [
        "This block will import all the required modules"
      ]
    },
    {
      "cell_type": "code",
      "execution_count": null,
      "id": "62f4d91a",
      "metadata": {
        "id": "62f4d91a"
      },
      "outputs": [],
      "source": [
        "from bloqade import qasm2\n",
        "from kirin.dialects import ilist\n",
        "import math\n",
        "from bloqade.qasm2.emit import QASM2 # the QASM2 target\n",
        "from bloqade.qasm2.parse import pprint # the QASM2 pretty printer\n",
        "from bloqade.qasm2.rewrite.native_gates import RydbergGateSetRewriteRule\n",
        "from kirin import ir\n",
        "from kirin.rewrite import Walk\n",
        "from bloqade.qasm2.passes import UOpToParallel, QASM2Fold"
      ]
    },
    {
      "cell_type": "markdown",
      "id": "nTfVqsCUtVEQ",
      "metadata": {
        "id": "nTfVqsCUtVEQ"
      },
      "source": [
        "This block uses the dialect created in the GHZ tutorial"
      ]
    },
    {
      "cell_type": "code",
      "execution_count": null,
      "id": "942fc96c",
      "metadata": {
        "id": "942fc96c"
      },
      "outputs": [],
      "source": [
        "@ir.dialect_group(qasm2.extended)\n",
        "def extended_opt(self):\n",
        "    native_rewrite = Walk(RydbergGateSetRewriteRule(self)) # use Kirin's functionality to walk code line by line while applying neutral-atom gate decomposition as defined in Bloqade\n",
        "    parallelize_pass = UOpToParallel(self) # review the code and apply parallelization using a heuristic\n",
        "    agg_fold = QASM2Fold(self) # supports parallelization by unfolding loops to search for parallelization opportunities\n",
        "\n",
        "    # here we define our new compiler pass\n",
        "    def run_pass(\n",
        "        kernel: ir.Method,\n",
        "        *,\n",
        "        fold: bool = True,\n",
        "        typeinfer: bool = True,\n",
        "        parallelize: bool = False,\n",
        "    ):\n",
        "        assert qasm2.extended.run_pass is not None\n",
        "        qasm2.extended.run_pass(kernel, fold=fold, typeinfer=typeinfer) # apply the original run_pass to the lowered kernel\n",
        "        native_rewrite.rewrite(kernel.code) # decompose all gates in the circuit to neutral atom gate set\n",
        "\n",
        "        # here goes our parallelization optimizer; the order of the commands here matters!\n",
        "        if parallelize:\n",
        "            agg_fold.fixpoint(kernel)\n",
        "            parallelize_pass(kernel)\n",
        "\n",
        "    return run_pass"
      ]
    },
    {
      "cell_type": "markdown",
      "id": "9037aa0f",
      "metadata": {
        "id": "9037aa0f"
      },
      "source": [
        "This block defines a function to build a Quantum Fourier Transform (QFT) circuit optimized for parallel execution. It uses a helper function to apply patterned layers of controlled-X gates and constructs the QFT with Hadamard gates, Rz rotations, and structured controlled operations."
      ]
    },
    {
      "cell_type": "markdown",
      "id": "8d558c8d",
      "metadata": {
        "id": "8d558c8d"
      },
      "source": [
        "The first section of the QFT circuit is canonically as follows, however, it is not in the native gate set for neutral-atom computers. Thus we decomposed the circuit into gates which are native to the architecture, and CNOTs that ressemble the GHZ problem which revealed oppurtunities for parallelization\n",
        "\n",
        "We start with a sub-circuit of the QFT algorithm below.\n",
        "\n",
        "<div align=\"center\">\n",
        "<picture>\n",
        "   <img src=\"ImageYQuantumHBlock.png\" style=\"width: 35vw; min-width: 330px;\" >\n",
        "</picture>\n",
        "</div>"
      ]
    },
    {
      "cell_type": "markdown",
      "id": "45e3844b",
      "metadata": {},
      "source": [
        "Next, we apply the circuit identity in fig 2(a) to get the following circuit.\n",
        "\n",
        "<div align=\"center\">\n",
        "<picture>\n",
        "   <img src=\"image copy 2.png\" >\n",
        "</picture>\n",
        "</div>"
      ]
    },
    {
      "cell_type": "markdown",
      "id": "dda9780f",
      "metadata": {
        "id": "dda9780f"
      },
      "source": [
        "<div align=\"center\">\n",
        "<picture>\n",
        "   <img src=\"ImageYQuantumHBlockSecondExpantion.png\" >\n",
        "</picture>\n",
        "</div>"
      ]
    },
    {
      "cell_type": "markdown",
      "id": "6ac022b2",
      "metadata": {},
      "source": [
        "Now we combine some Rz gates since they are diagonal and therefore commutable. This gives us the following circuit."
      ]
    },
    {
      "cell_type": "markdown",
      "id": "779c6a6a",
      "metadata": {
        "id": "779c6a6a"
      },
      "source": [
        "<div align=\"center\">\n",
        "<picture>\n",
        "   <img src=\"Untitled-1.png\" >\n",
        "</picture>\n",
        "</div>"
      ]
    },
    {
      "cell_type": "markdown",
      "id": "b45675ba",
      "metadata": {},
      "source": [
        "By the identity in fig 2b, we can then decompose the circuit into the following:\n",
        "\n",
        "<div align=\"center\">\n",
        "<picture>\n",
        "   <img src=\"image copy 3.png\" >\n",
        "</picture>\n",
        "</div>"
      ]
    },
    {
      "cell_type": "markdown",
      "id": "f8dd5969",
      "metadata": {
        "id": "f8dd5969"
      },
      "source": [
        "<div align=\"center\">\n",
        "<picture>\n",
        "   <img src=\"Untitled-2.png\" >\n",
        "</picture>\n",
        "</div>\n",
        "\n",
        "All circuit diagrams and decompositions are from [nature](https://www.nature.com/articles/s41598-023-35625-3#Fig5) and show the CNOTs ressembling the GHZ allowing us to take advantage of the parallelization proposed in the GHZ tutorial provided."
      ]
    },
    {
      "cell_type": "markdown",
      "id": "8d52822a",
      "metadata": {
        "id": "8d52822a"
      },
      "source": [
        "<div align=\"center\">\n",
        "<picture>\n",
        "   <img src=\"GHZ_linear.png\" style=\"width: 35vw; min-width: 330px;\" >\n",
        "</picture>\n",
        "</div>"
      ]
    },
    {
      "cell_type": "markdown",
      "id": "31341c6c",
      "metadata": {
        "id": "31341c6c"
      },
      "source": [
        "<div align=\"center\">\n",
        "<picture>\n",
        "   <img src=\"GHZ_parallel.png\" style=\"width: 25vw; height: 25vw;\" >\n",
        "</picture>\n",
        "</div>"
      ]
    },
    {
      "cell_type": "code",
      "execution_count": null,
      "id": "d2c8c75a",
      "metadata": {
        "id": "d2c8c75a"
      },
      "outputs": [],
      "source": [
        "import qiskit.qasm2 as qq\n",
        "import random\n",
        "\n",
        "@extended_opt\n",
        "def dyadic_roatation_layer(qreg : qasm2.QReg, n : int, start : int):\n",
        "    # Apply a sequence of dyadic-like rotations\n",
        "    for j in range(start + 1, n):\n",
        "        qasm2.rz(qreg[j], math.pi / (2**(j + 2)))\n",
        "\n",
        "@extended_opt\n",
        "def cnot_fanout_layer(qreg : qasm2.QReg, n : int, ctrl : int):\n",
        "    # Apply the CNOT fanout in its equivalent sequential form\n",
        "    for j in range(ctrl + 1, n):\n",
        "        qasm2.cx(qreg[ctrl], qreg[j])\n",
        "\n",
        "def qft(n: int, bit_str : str, parallelize: bool = True):\n",
        "    @extended_opt(parallelize=parallelize)\n",
        "    def qft_program():\n",
        "        qreg = qasm2.qreg(n)\n",
        "        creg = qasm2.creg(n)\n",
        "\n",
        "        # Initialize the qubits to the state in the given bit-string\n",
        "        for i in range(len(bit_str)):\n",
        "            if bit_str[i] == '1':\n",
        "                qasm2.x(qreg[i])\n",
        "\n",
        "        for i in range(n):\n",
        "            qasm2.h(qreg[i])\n",
        "\n",
        "            dyadic_roatation_layer(qreg, n, i)\n",
        "\n",
        "            cnot_fanout_layer(qreg, n, i)\n",
        "\n",
        "            dyadic_roatation_layer(qreg, n, i)\n",
        "\n",
        "            cnot_fanout_layer(qreg, n, i)\n",
        "\n",
        "            # Apply the last rotation\n",
        "            qasm2.rz(qreg[i], ((2**(n - i + 1) - 1) * math.pi) / (2**(n - i + 2)))\n",
        "        for i in range(n):\n",
        "            qasm2.measure(qreg[i],creg[i])\n",
        "\n",
        "        return creg # return register for simulation\n",
        "\n",
        "    return qft_program\n",
        "\n",
        "target = QASM2()\n",
        "ast = target.emit(qft(4, \"0101\"))\n",
        "pprint(ast)"
      ]
    },
    {
      "cell_type": "markdown",
      "id": "c0f80908",
      "metadata": {
        "id": "c0f80908"
      },
      "source": [
        "This block tests the QFT recording measurements over a large set of experiments. Since QFT only encodes a phase into the states, under measurement the output distribution should be uniform regardless of input. A random bit string is inputted at the start of the QFT for this reason"
      ]
    },
    {
      "cell_type": "code",
      "execution_count": null,
      "id": "6b7f1c1a",
      "metadata": {
        "id": "6b7f1c1a"
      },
      "outputs": [],
      "source": [
        "from bloqade.pyqrack import PyQrack\n",
        "from collections import Counter\n",
        "import random\n",
        "\n",
        "device = PyQrack(dynamic_qubits=True, pyqrack_options={\"isBinaryDecisionTree\": False})\n",
        "\n",
        "bit_str = \"\"\n",
        "for i in range(4):\n",
        "    bit_str += str(random.randint(0,1))\n",
        "\n",
        "kernel = qft(4, bit_str)\n",
        "results = device.multi_run(kernel, _shots=10000)\n",
        "\n",
        "def to_bitstrings(results):\n",
        "    return Counter(map(lambda result:\"\".join(map(str, result)), results))\n",
        "\n",
        "counts = to_bitstrings(results)\n",
        "\n",
        "for key, value in counts.items():\n",
        "    print(key, value)"
      ]
    },
    {
      "cell_type": "markdown",
      "id": "0d3c28a5",
      "metadata": {},
      "source": [
        "One area of the decomposed Quantum Fourier Transform (QFT) that lacks clear route of optimization is the sequence of controlled rotations. A promising direction could be the design of a more complex global gate that combines multiple rotations simultaneously requiring a physics/engineering effort. Since global operations may introduce significantly less error than local operations and there would be 1 operation vs. n operations, this could yield orders-of-magnitude improvements in speed. This could be a worthwile endeavour despite the engineering difficulty given how common the QFT is in algorithms.\n",
        "\n",
        "Additionally, because the QFT rotations scale as π/2ᵏ, a cutoff threshold can be introduced below which rotations are omitted, as their impact on the state is negligible—further accelerating computation with minimal loss in accuracy. \n",
        "\n",
        "Another potential optimization involves using additional ancilla qubits to replicate shared control lines. This could reduce circuit depth from linear to logarithmic. For example, this is 3 CNOT gates that share a control line:\n",
        "<div align=\"center\">\n",
        "<picture>\n",
        "   <img src=\"image.png\" style=\"width: 35vw; min-width: 330px;\" >\n",
        "</picture>\n",
        "</div>\n",
        "\n",
        "In this second image, these CNOT gates can be parallelized as by 'copying' the control qubit onto the additional 4th qubit, a selection of CNOTS can control off the additional qubit\n",
        "\n",
        "<div align=\"center\">\n",
        "<picture>\n",
        "   <img src=\"image copy.png\" style=\"width: 35vw; min-width: 330px;\" >\n",
        "</picture>\n",
        "</div>\n",
        "\n",
        "\n",
        "This is left as an exercise to implement for the QFT but it would yield a log improvement in depth whilst adding linearly in the amount of qubits"
      ]
    }
  ],
  "metadata": {
    "colab": {
      "provenance": []
    },
    "kernelspec": {
      "display_name": "yquantum-quera",
      "language": "python",
      "name": "python3"
    },
    "language_info": {
      "codemirror_mode": {
        "name": "ipython",
        "version": 3
      },
      "file_extension": ".py",
      "mimetype": "text/x-python",
      "name": "python",
      "nbconvert_exporter": "python",
      "pygments_lexer": "ipython3",
      "version": "3.13.2"
    }
  },
  "nbformat": 4,
  "nbformat_minor": 5
}
