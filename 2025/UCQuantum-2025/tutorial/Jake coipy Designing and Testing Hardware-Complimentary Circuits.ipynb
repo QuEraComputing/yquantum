{
 "cells": [
  {
   "metadata": {},
   "cell_type": "markdown",
   "source": "# Designing and Testing Hardware-Complementary Quantum Circuits",
   "id": "ad415b12a3178289"
  },
  {
   "metadata": {},
   "cell_type": "markdown",
   "source": "GHZ state preparation circuit is a very elementary circuit which still has potential for optimization on the Neutral Atom platform.",
   "id": "e8694a1f23a4a846"
  },
  {
   "metadata": {},
   "cell_type": "markdown",
   "source": [
    "# GHZPrep First Optimization\n",
    "The first optimization that we can make is to try to use global gates instead of local gates, wherever possible.\n",
    "<br>\n",
    "<br> Notice that if we expand every CNOT in the circuit, every qubit in the register will have a Hadamard gate as its first operation. If we replace all these single-qubit gates with just one global gate, substituting H for an equivalent U(pi/2, 0, pi) gate, then the circuit is now optimized.\n",
    "<br>\n",
    "There is still more potential for optimization!\n"
   ],
   "id": "2a202ed1e318b907"
  },
  {
   "metadata": {
    "ExecuteTime": {
     "end_time": "2025-04-13T12:11:35.393303Z",
     "start_time": "2025-04-13T12:11:34.958998Z"
    }
   },
   "cell_type": "code",
   "source": [
    "from kirin.dialects import ilist\n",
    "from bloqade.qasm2.dialects import core, parallel # Import core dialect as well\n",
    "from bloqade import qasm2 as qasm2\n",
    "import math\n",
    "\n",
    "# Define an outer function that returns the decorated program\n",
    "def GHZ2():\n",
    "    num_qubits_program = 3\n",
    "    @qasm2.extended\n",
    "    def parallel_hadamard_GHZprep(): # Define the actual program logic here\n",
    "\n",
    "        qreg = qasm2.qreg(num_qubits_program)\n",
    "\n",
    "        # Apply parallel U gate\n",
    "        qasm2.parallel.u(\n",
    "            list(qreg),    # Pass the list of qubits\n",
    "            theta=math.pi/2, # Specify the theta angle\n",
    "            phi=0,           # Specify the phi angle\n",
    "            lam=math.pi      # Specify the lambda angle\n",
    "        )\n",
    "\n",
    "        # Apply CZ and H gates sequentially\n",
    "        # Loop up to num_qubits_program\n",
    "        for i in range(1, num_qubits_program):\n",
    "            qasm2.cz(qreg[i - 1], qreg[i])\n",
    "            qasm2.h(qreg[i])\n",
    "\n",
    "        # No explicit return needed inside the decorated function\n",
    "\n",
    "    # Return the inner, decorated function object\n",
    "    return parallel_hadamard_GHZprep\n"
   ],
   "id": "57f4221164dca511",
   "outputs": [],
   "execution_count": 1
  },
  {
   "metadata": {},
   "cell_type": "markdown",
   "source": "![First optimization](image/IMG_8645.jpg)",
   "id": "633747b965e7fadd"
  },
  {
   "metadata": {},
   "cell_type": "markdown",
   "source": [
    "# GHZPrep Second Optimization\n",
    "The circuit which creates a GHZ state also has an alternate variant which greatly reduces its depth. The depth of a circuit is the number of time steps needed to execute the circuit to completion, which generally correlates with larger error the larger the depth is.\n",
    "<br><br>\n",
    "Here it can be reduced by changing the order in which CNOT gates are executed, allowing some to be done in parallel. Additionally, the same global-hadamard optimization can be made here. The circuit and a diagram are below.\n",
    "\n"
   ],
   "id": "886d714be53f9b88"
  },
  {
   "metadata": {},
   "cell_type": "code",
   "outputs": [],
   "execution_count": null,
   "source": "a = 0",
   "id": "c9e4d2ee4648c6c5"
  }
 ],
 "metadata": {
  "kernelspec": {
   "display_name": "Python 3",
   "language": "python",
   "name": "python3"
  },
  "language_info": {
   "codemirror_mode": {
    "name": "ipython",
    "version": 2
   },
   "file_extension": ".py",
   "mimetype": "text/x-python",
   "name": "python",
   "nbconvert_exporter": "python",
   "pygments_lexer": "ipython2",
   "version": "2.7.6"
  }
 },
 "nbformat": 4,
 "nbformat_minor": 5
}
