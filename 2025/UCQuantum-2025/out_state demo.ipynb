{
 "cells": [
  {
   "metadata": {},
   "cell_type": "markdown",
   "source": [
    "# Benchmarker\n",
    "Run arbitrary circuit under different noise scenarios and error probabilities,\n",
    "<br> retrieve final state either from simulator or with tomography,\n",
    "<br> calculate check quantities with noiseless circuit (trace distance, fidelity),\n",
    "<br> use mpl to visualize error issues."
   ],
   "id": "ff9a24321471db79"
  },
  {
   "metadata": {
    "ExecuteTime": {
     "end_time": "2025-04-13T08:31:35.459018Z",
     "start_time": "2025-04-13T08:31:34.229739Z"
    }
   },
   "cell_type": "code",
   "source": [
    "import math\n",
    "\n",
    "import bloqade.qasm2.rewrite\n",
    "from PIL.EpsImagePlugin import has_ghostscript\n",
    "from bloqade import qasm2\n",
    "from bloqade.pyqrack import PyQrack\n",
    "from kirin.dialects import ilist\n",
    "\n",
    "pi = math.pi"
   ],
   "id": "aa017472692386b9",
   "outputs": [],
   "execution_count": 1
  },
  {
   "metadata": {
    "ExecuteTime": {
     "end_time": "2025-04-13T08:27:30.306907Z",
     "start_time": "2025-04-13T08:27:30.301114Z"
    }
   },
   "cell_type": "code",
   "source": "qasm2.parallel.u.parent.__dict__",
   "id": "8809017ed8a5421a",
   "outputs": [
    {
     "data": {
      "text/plain": [
       "mappingproxy({'__module__': 'bloqade.qasm2.dialects.parallel',\n",
       "              '__annotations__': {'qargs': kirin.ir.ssa.SSAValue,\n",
       "               'theta': kirin.ir.ssa.SSAValue,\n",
       "               'phi': kirin.ir.ssa.SSAValue,\n",
       "               'lam': kirin.ir.ssa.SSAValue},\n",
       "              'name': 'u',\n",
       "              'traits': frozenset({FromPythonCall()}),\n",
       "              '__doc__': None,\n",
       "              '__parameters__': (),\n",
       "              '__abstractmethods__': frozenset(),\n",
       "              '_abc_impl': <_abc._abc_data at 0x108e3c300>,\n",
       "              '__kirin_stmt_params': {'dialect': Dialect(name=qasm2.parallel, ...)},\n",
       "              '__kirin_stmt_fields': StatementFields(std_args={'qargs': ArgumentField(name='qargs', annotation=<class 'kirin.ir.ssa.SSAValue'>, kw_only=False, alias=None, type=IList[Qubit, TypeVar(varname='ListLen', bound=AnyType())], print=True, group=False), 'theta': ArgumentField(name='theta', annotation=<class 'kirin.ir.ssa.SSAValue'>, kw_only=False, alias=None, type=float, print=True, group=False), 'phi': ArgumentField(name='phi', annotation=<class 'kirin.ir.ssa.SSAValue'>, kw_only=False, alias=None, type=float, print=True, group=False), 'lam': ArgumentField(name='lam', annotation=<class 'kirin.ir.ssa.SSAValue'>, kw_only=False, alias=None, type=float, print=True, group=False)}, kw_args={}, results={}, regions={}, blocks={}, attributes={}),\n",
       "              'dialect': Dialect(name=qasm2.parallel, ...),\n",
       "              '_arg_groups': frozenset(),\n",
       "              '__init__': <function bloqade.qasm2.dialects.parallel.UGate.__init__(self, qargs: kirin.ir.ssa.SSAValue, theta: kirin.ir.ssa.SSAValue, phi: kirin.ir.ssa.SSAValue, lam: kirin.ir.ssa.SSAValue) -> None>,\n",
       "              'qargs': <property at 0x109503740>,\n",
       "              'theta': <property at 0x109503920>,\n",
       "              'phi': <property at 0x1095034c0>,\n",
       "              'lam': <property at 0x109503830>,\n",
       "              'typecheck': <function bloqade.qasm2.dialects.parallel.UGate._kirin_decl_typecheck(self) -> None>,\n",
       "              'verify': <function bloqade.qasm2.dialects.parallel.UGate._kirin_decl_verify(self) -> None>})"
      ]
     },
     "execution_count": 2,
     "metadata": {},
     "output_type": "execute_result"
    }
   ],
   "execution_count": 2
  },
  {
   "metadata": {
    "ExecuteTime": {
     "end_time": "2025-04-13T08:31:17.714131Z",
     "start_time": "2025-04-13T08:31:16.150545Z"
    }
   },
   "cell_type": "code",
   "source": [
    "qft=None\n",
    "del qft\n",
    "\n",
    "@qasm2.extended\n",
    "def qft(qreg: qasm2.QReg, n: int, k: int):\n",
    "    if k == n:\n",
    "        return\n",
    "    qasm2.parallel.u(\n",
    "            qreg[:],          # Pass the list of qubits\n",
    "            theta=math.pi/2, # Specify the theta angle\n",
    "            phi=0,           # Specify the phi angle\n",
    "            lam=math.pi      # Specify the lambda angle\n",
    "        )\n",
    "    for i in range(k + 1, n):\n",
    "        qasm2.cu1(qreg[i], qreg[k], 2 * math.pi / 2**i)\n",
    "    qft(qreg, n, k + 1)  # recursion\n",
    "\n",
    "    return\n",
    "\n"
   ],
   "id": "56121495df8dfcba",
   "outputs": [],
   "execution_count": 14
  },
  {
   "metadata": {
    "ExecuteTime": {
     "end_time": "2025-04-13T08:51:30.018877Z",
     "start_time": "2025-04-13T08:51:28.568343Z"
    }
   },
   "cell_type": "code",
   "source": [
    "import math\n",
    "\n",
    "from PIL.EpsImagePlugin import has_ghostscript\n",
    "from bloqade import qasm2\n",
    "from bloqade.pyqrack import PyQrack\n",
    "from kirin.dialects import ilist\n",
    "\n",
    "pi = math.pi\n",
    "\n",
    "\n",
    "\n",
    "\n",
    "main_new_name=None\n",
    "del main_new_name\n",
    "\n",
    "from kirin.dialects import ilist\n",
    "@qasm2.extended\n",
    "def main_new_name():\n",
    "    qreg = qasm2.qreg(3)\n",
    "    #return qft(qlist, 3, 0)\n",
    "    qasm2.u(\n",
    "            qreg[0],          # Pass the list of qubits\n",
    "            theta=0, # Specify the theta angle\n",
    "            phi=0,           # Specify the phi angle\n",
    "            lam=0,      # Specify the lambda angle\n",
    "        )\n",
    "\n",
    "\n",
    "from bloqade.qasm2.emit import QASM2 # the QASM2 target\n",
    "from bloqade.qasm2.parse import pprint # the QASM2 pretty printer\n",
    "\n",
    "#target = QASM2()\n",
    "#ast = target.emit(main)\n",
    "#print(ast.)\n",
    "\n",
    "print(main_new_name())\n",
    "\n",
    "device = PyQrack()\n",
    "from bloqade.qasm2.passes.parallel import ParallelToUOp\n",
    "ParallelToUOp(dialects=main_new_name.dialects)(main_new_name)\n",
    "#final = device.run(main_new_name)"
   ],
   "id": "d5f060db60ad2ded",
   "outputs": [
    {
     "name": "stdout",
     "output_type": "stream",
     "text": [
      "Traceback (most recent call last):\n",
      "  main_new_name()\n",
      "\u001B[34mfunc\u001B[0m\u001B[31m.\u001B[0m\u001B[31mfunc\u001B[0m\u001B[31m \u001B[0m\u001B[36mmain_new_name\u001B[0m()\u001B[90m -> \u001B[0m\u001B[90m!py.NoneType\u001B[0m\u001B[90m \u001B[0m{\n",
      "\u001B[90m  \u001B[0m^0(%main_new_name_self):\n",
      "\u001B[90m  │ \u001B[0m   %0 = \u001B[34mpy.constant\u001B[0m.constant 3\u001B[90m : \u001B[0m\u001B[90m!py.int\u001B[0m\n",
      "\u001B[90m  │ \u001B[0m%qreg = \u001B[34mqasm2.core\u001B[0m.qreg.new(\u001B[33mn_qubits=\u001B[0m%0)\u001B[30m : \u001B[0m\u001B[30m!py.QReg\u001B[0m\n",
      "\u001B[90m  │ \u001B[0m   %1 = \u001B[34mpy.constant\u001B[0m.constant 0\u001B[90m : \u001B[0m\u001B[90m!py.int\u001B[0m\n",
      "\u001B[90m  │ \u001B[0m   %2 = \u001B[34mqasm2.core\u001B[0m.qreg.get(\u001B[33mreg=\u001B[0m%qreg, \u001B[33midx=\u001B[0m%1)\u001B[30m : \u001B[0m\u001B[30m!py.Qubit\u001B[0m\n",
      "\u001B[90m  │ \u001B[0m   %3 = \u001B[34mpy.constant\u001B[0m.constant 0\u001B[90m : \u001B[0m\u001B[90m!py.int\u001B[0m\n",
      "\u001B[90m  │ \u001B[0m   %4 = \u001B[34mpy.constant\u001B[0m.constant 0\u001B[90m : \u001B[0m\u001B[90m!py.int\u001B[0m\n",
      "\u001B[90m  │ \u001B[0m   %5 = \u001B[34mpy.constant\u001B[0m.constant 0\u001B[90m : \u001B[0m\u001B[90m!py.int\u001B[0m\n",
      "\u001B[90m  │ \u001B[0m        \u001B[34mqasm2.uop\u001B[0m.U(\u001B[33mqarg=\u001B[0m%2, \u001B[33mtheta=\u001B[0m%3, \u001B[33mphi=\u001B[0m%4, \u001B[33mlam=\u001B[0m%5)\n",
      "\u001B[90m  │ \u001B[0m   %6 = \u001B[34mfunc\u001B[0m.const.none()\u001B[30m : \u001B[0m\u001B[30m!py.NoneType\u001B[0m\n",
      "\u001B[90m  │ \u001B[0m        \u001B[34mfunc\u001B[0m\u001B[31m.\u001B[0m\u001B[31mreturn\u001B[0m %6\n",
      "}\u001B[90m // func.func main_new_name\u001B[0m\n",
      "InterpreterError: no implementation for stmt \u001B[34mqasm2.core\u001B[0m.qreg.new(\u001B[33mn_qubits=\u001B[0m%0)\u001B[30m : \u001B[0m\u001B[30m!py.QReg\u001B[0m from <class 'kirin.interp.concrete.Interpreter'>\n",
      "================================ Python Stacktrace ================================\n"
     ]
    },
    {
     "ename": "InterpreterError",
     "evalue": "no implementation for stmt \u001B[34mqasm2.core\u001B[0m.qreg.new(\u001B[33mn_qubits=\u001B[0m%0)\u001B[30m : \u001B[0m\u001B[30m!py.QReg\u001B[0m from <class 'kirin.interp.concrete.Interpreter'>",
     "output_type": "error",
     "traceback": [
      "\u001B[0;31m---------------------------------------------------------------------------\u001B[0m",
      "\u001B[0;31mInterpreterError\u001B[0m                          Traceback (most recent call last)",
      "Cell \u001B[0;32mIn[1], line 37\u001B[0m\n\u001B[1;32m     31\u001B[0m \u001B[38;5;28;01mfrom\u001B[39;00m\u001B[38;5;250m \u001B[39m\u001B[38;5;21;01mbloqade\u001B[39;00m\u001B[38;5;21;01m.\u001B[39;00m\u001B[38;5;21;01mqasm2\u001B[39;00m\u001B[38;5;21;01m.\u001B[39;00m\u001B[38;5;21;01mparse\u001B[39;00m\u001B[38;5;250m \u001B[39m\u001B[38;5;28;01mimport\u001B[39;00m pprint \u001B[38;5;66;03m# the QASM2 pretty printer\u001B[39;00m\n\u001B[1;32m     33\u001B[0m \u001B[38;5;66;03m#target = QASM2()\u001B[39;00m\n\u001B[1;32m     34\u001B[0m \u001B[38;5;66;03m#ast = target.emit(main)\u001B[39;00m\n\u001B[1;32m     35\u001B[0m \u001B[38;5;66;03m#print(ast.)\u001B[39;00m\n\u001B[0;32m---> 37\u001B[0m \u001B[38;5;28mprint\u001B[39m(\u001B[43mmain_new_name\u001B[49m\u001B[43m(\u001B[49m\u001B[43m)\u001B[49m)\n\u001B[1;32m     39\u001B[0m device \u001B[38;5;241m=\u001B[39m PyQrack()\n\u001B[1;32m     40\u001B[0m \u001B[38;5;28;01mfrom\u001B[39;00m\u001B[38;5;250m \u001B[39m\u001B[38;5;21;01mbloqade\u001B[39;00m\u001B[38;5;21;01m.\u001B[39;00m\u001B[38;5;21;01mqasm2\u001B[39;00m\u001B[38;5;21;01m.\u001B[39;00m\u001B[38;5;21;01mpasses\u001B[39;00m\u001B[38;5;21;01m.\u001B[39;00m\u001B[38;5;21;01mparallel\u001B[39;00m\u001B[38;5;250m \u001B[39m\u001B[38;5;28;01mimport\u001B[39;00m ParallelToUOp\n",
      "File \u001B[0;32m~/miniconda3/lib/python3.12/site-packages/kirin/ir/method.py:49\u001B[0m, in \u001B[0;36mMethod.__call__\u001B[0;34m(self, *args, **kwargs)\u001B[0m\n\u001B[1;32m     47\u001B[0m \u001B[38;5;66;03m# NOTE: multi-return values will be wrapped in a tuple for Python\u001B[39;00m\n\u001B[1;32m     48\u001B[0m interp \u001B[38;5;241m=\u001B[39m Interpreter(\u001B[38;5;28mself\u001B[39m\u001B[38;5;241m.\u001B[39mdialects)\n\u001B[0;32m---> 49\u001B[0m \u001B[38;5;28;01mreturn\u001B[39;00m \u001B[43minterp\u001B[49m\u001B[38;5;241;43m.\u001B[39;49m\u001B[43mrun\u001B[49m\u001B[43m(\u001B[49m\u001B[38;5;28;43mself\u001B[39;49m\u001B[43m,\u001B[49m\u001B[43m \u001B[49m\u001B[43margs\u001B[49m\u001B[38;5;241;43m=\u001B[39;49m\u001B[43margs\u001B[49m\u001B[43m,\u001B[49m\u001B[43m \u001B[49m\u001B[43mkwargs\u001B[49m\u001B[38;5;241;43m=\u001B[39;49m\u001B[43mkwargs\u001B[49m\u001B[43m)\u001B[49m\u001B[38;5;241;43m.\u001B[39;49m\u001B[43mexpect\u001B[49m\u001B[43m(\u001B[49m\u001B[43m)\u001B[49m\n",
      "File \u001B[0;32m~/miniconda3/lib/python3.12/site-packages/kirin/interp/result.py:79\u001B[0m, in \u001B[0;36mErr.expect\u001B[0;34m(self)\u001B[0m\n\u001B[1;32m     77\u001B[0m     \u001B[38;5;28;01mraise\u001B[39;00m \u001B[38;5;28mself\u001B[39m\u001B[38;5;241m.\u001B[39mexception\u001B[38;5;241m.\u001B[39mexception \u001B[38;5;28;01mfrom\u001B[39;00m\u001B[38;5;250m \u001B[39m\u001B[38;5;21;01mself\u001B[39;00m\u001B[38;5;21;01m.\u001B[39;00m\u001B[38;5;21;01mexception\u001B[39;00m\n\u001B[1;32m     78\u001B[0m \u001B[38;5;28;01melse\u001B[39;00m:\n\u001B[0;32m---> 79\u001B[0m     \u001B[38;5;28;01mraise\u001B[39;00m \u001B[38;5;28mself\u001B[39m\u001B[38;5;241m.\u001B[39mexception \u001B[38;5;28;01mfrom\u001B[39;00m\u001B[38;5;250m \u001B[39m\u001B[38;5;28;01mNone\u001B[39;00m\n",
      "File \u001B[0;32m~/miniconda3/lib/python3.12/site-packages/kirin/interp/base.py:146\u001B[0m, in \u001B[0;36mBaseInterpreter.run\u001B[0;34m(self, mt, args, kwargs)\u001B[0m\n\u001B[1;32m    144\u001B[0m args \u001B[38;5;241m=\u001B[39m \u001B[38;5;28mself\u001B[39m\u001B[38;5;241m.\u001B[39mget_args(mt\u001B[38;5;241m.\u001B[39marg_names[\u001B[38;5;28mlen\u001B[39m(args) \u001B[38;5;241m+\u001B[39m \u001B[38;5;241m1\u001B[39m :], args, kwargs)\n\u001B[1;32m    145\u001B[0m \u001B[38;5;28;01mtry\u001B[39;00m:\n\u001B[0;32m--> 146\u001B[0m     _, results \u001B[38;5;241m=\u001B[39m \u001B[38;5;28;43mself\u001B[39;49m\u001B[38;5;241;43m.\u001B[39;49m\u001B[43mrun_method\u001B[49m\u001B[43m(\u001B[49m\u001B[43mmt\u001B[49m\u001B[43m,\u001B[49m\u001B[43m \u001B[49m\u001B[43margs\u001B[49m\u001B[43m)\u001B[49m\n\u001B[1;32m    147\u001B[0m \u001B[38;5;28;01mexcept\u001B[39;00m InterpreterError \u001B[38;5;28;01mas\u001B[39;00m e:\n\u001B[1;32m    148\u001B[0m     \u001B[38;5;66;03m# NOTE: initialize will create new State\u001B[39;00m\n\u001B[1;32m    149\u001B[0m     \u001B[38;5;66;03m# so we don't need to copy the frames.\u001B[39;00m\n\u001B[1;32m    150\u001B[0m     \u001B[38;5;28;01mreturn\u001B[39;00m Err(e, \u001B[38;5;28mself\u001B[39m\u001B[38;5;241m.\u001B[39mstate\u001B[38;5;241m.\u001B[39mframes)\n",
      "File \u001B[0;32m~/miniconda3/lib/python3.12/site-packages/kirin/interp/concrete.py:30\u001B[0m, in \u001B[0;36mInterpreter.run_method\u001B[0;34m(self, method, args)\u001B[0m\n\u001B[1;32m     27\u001B[0m \u001B[38;5;28;01mdef\u001B[39;00m\u001B[38;5;250m \u001B[39m\u001B[38;5;21mrun_method\u001B[39m(\n\u001B[1;32m     28\u001B[0m     \u001B[38;5;28mself\u001B[39m, method: Method, args: \u001B[38;5;28mtuple\u001B[39m[Any, \u001B[38;5;241m.\u001B[39m\u001B[38;5;241m.\u001B[39m\u001B[38;5;241m.\u001B[39m]\n\u001B[1;32m     29\u001B[0m ) \u001B[38;5;241m-\u001B[39m\u001B[38;5;241m>\u001B[39m \u001B[38;5;28mtuple\u001B[39m[Frame[Any], Any]:\n\u001B[0;32m---> 30\u001B[0m     \u001B[38;5;28;01mreturn\u001B[39;00m \u001B[38;5;28;43mself\u001B[39;49m\u001B[38;5;241;43m.\u001B[39;49m\u001B[43mrun_callable\u001B[49m\u001B[43m(\u001B[49m\u001B[43mmethod\u001B[49m\u001B[38;5;241;43m.\u001B[39;49m\u001B[43mcode\u001B[49m\u001B[43m,\u001B[49m\u001B[43m \u001B[49m\u001B[43m(\u001B[49m\u001B[43mmethod\u001B[49m\u001B[43m,\u001B[49m\u001B[43m)\u001B[49m\u001B[43m \u001B[49m\u001B[38;5;241;43m+\u001B[39;49m\u001B[43m \u001B[49m\u001B[43margs\u001B[49m\u001B[43m)\u001B[49m\n",
      "File \u001B[0;32m~/miniconda3/lib/python3.12/site-packages/kirin/interp/base.py:220\u001B[0m, in \u001B[0;36mBaseInterpreter.run_callable\u001B[0;34m(self, code, args)\u001B[0m\n\u001B[1;32m    218\u001B[0m     \u001B[38;5;28;01mreturn\u001B[39;00m \u001B[38;5;28mself\u001B[39m\u001B[38;5;241m.\u001B[39mstate\u001B[38;5;241m.\u001B[39mpop_frame(), \u001B[38;5;28mself\u001B[39m\u001B[38;5;241m.\u001B[39mvoid\n\u001B[1;32m    219\u001B[0m frame\u001B[38;5;241m.\u001B[39mset_values(body\u001B[38;5;241m.\u001B[39mblocks[\u001B[38;5;241m0\u001B[39m]\u001B[38;5;241m.\u001B[39margs, args)\n\u001B[0;32m--> 220\u001B[0m results \u001B[38;5;241m=\u001B[39m \u001B[38;5;28;43mself\u001B[39;49m\u001B[38;5;241;43m.\u001B[39;49m\u001B[43mrun_callable_region\u001B[49m\u001B[43m(\u001B[49m\u001B[43mframe\u001B[49m\u001B[43m,\u001B[49m\u001B[43m \u001B[49m\u001B[43mcode\u001B[49m\u001B[43m,\u001B[49m\u001B[43m \u001B[49m\u001B[43mbody\u001B[49m\u001B[43m)\u001B[49m\n\u001B[1;32m    221\u001B[0m \u001B[38;5;28;01mreturn\u001B[39;00m \u001B[38;5;28mself\u001B[39m\u001B[38;5;241m.\u001B[39mstate\u001B[38;5;241m.\u001B[39mpop_frame(), results\n",
      "File \u001B[0;32m~/miniconda3/lib/python3.12/site-packages/kirin/interp/base.py:234\u001B[0m, in \u001B[0;36mBaseInterpreter.run_callable_region\u001B[0;34m(self, frame, code, region)\u001B[0m\n\u001B[1;32m    223\u001B[0m \u001B[38;5;28;01mdef\u001B[39;00m\u001B[38;5;250m \u001B[39m\u001B[38;5;21mrun_callable_region\u001B[39m(\n\u001B[1;32m    224\u001B[0m     \u001B[38;5;28mself\u001B[39m, frame: FrameType, code: Statement, region: Region\n\u001B[1;32m    225\u001B[0m ) \u001B[38;5;241m-\u001B[39m\u001B[38;5;241m>\u001B[39m ValueType:\n\u001B[1;32m    226\u001B[0m \u001B[38;5;250m    \u001B[39m\u001B[38;5;124;03m\"\"\"A hook defines how to run the callable region given\u001B[39;00m\n\u001B[1;32m    227\u001B[0m \u001B[38;5;124;03m    the interpreter context. Frame should be pushed before calling\u001B[39;00m\n\u001B[1;32m    228\u001B[0m \u001B[38;5;124;03m    this method and popped after calling this method.\u001B[39;00m\n\u001B[0;32m   (...)\u001B[0m\n\u001B[1;32m    232\u001B[0m \u001B[38;5;124;03m    to be compatible with the Python convention.\u001B[39;00m\n\u001B[1;32m    233\u001B[0m \u001B[38;5;124;03m    \"\"\"\u001B[39;00m\n\u001B[0;32m--> 234\u001B[0m     results \u001B[38;5;241m=\u001B[39m \u001B[38;5;28;43mself\u001B[39;49m\u001B[38;5;241;43m.\u001B[39;49m\u001B[43mrun_ssacfg_region\u001B[49m\u001B[43m(\u001B[49m\u001B[43mframe\u001B[49m\u001B[43m,\u001B[49m\u001B[43m \u001B[49m\u001B[43mregion\u001B[49m\u001B[43m)\u001B[49m\n\u001B[1;32m    235\u001B[0m     \u001B[38;5;28;01mif\u001B[39;00m \u001B[38;5;28misinstance\u001B[39m(results, ReturnValue):\n\u001B[1;32m    236\u001B[0m         \u001B[38;5;28;01mreturn\u001B[39;00m results\u001B[38;5;241m.\u001B[39mvalue\n",
      "File \u001B[0;32m~/miniconda3/lib/python3.12/site-packages/kirin/interp/concrete.py:37\u001B[0m, in \u001B[0;36mInterpreter.run_ssacfg_region\u001B[0;34m(self, frame, region)\u001B[0m\n\u001B[1;32m     35\u001B[0m block \u001B[38;5;241m=\u001B[39m region\u001B[38;5;241m.\u001B[39mblocks[\u001B[38;5;241m0\u001B[39m]\n\u001B[1;32m     36\u001B[0m \u001B[38;5;28;01mwhile\u001B[39;00m block \u001B[38;5;129;01mis\u001B[39;00m \u001B[38;5;129;01mnot\u001B[39;00m \u001B[38;5;28;01mNone\u001B[39;00m:\n\u001B[0;32m---> 37\u001B[0m     results \u001B[38;5;241m=\u001B[39m \u001B[38;5;28;43mself\u001B[39;49m\u001B[38;5;241;43m.\u001B[39;49m\u001B[43mrun_block\u001B[49m\u001B[43m(\u001B[49m\u001B[43mframe\u001B[49m\u001B[43m,\u001B[49m\u001B[43m \u001B[49m\u001B[43mblock\u001B[49m\u001B[43m)\u001B[49m\n\u001B[1;32m     38\u001B[0m     \u001B[38;5;28;01mif\u001B[39;00m \u001B[38;5;28misinstance\u001B[39m(results, Successor):\n\u001B[1;32m     39\u001B[0m         block \u001B[38;5;241m=\u001B[39m results\u001B[38;5;241m.\u001B[39mblock\n",
      "File \u001B[0;32m~/miniconda3/lib/python3.12/site-packages/kirin/interp/concrete.py:55\u001B[0m, in \u001B[0;36mInterpreter.run_block\u001B[0;34m(self, frame, block)\u001B[0m\n\u001B[1;32m     53\u001B[0m frame\u001B[38;5;241m.\u001B[39mstmt \u001B[38;5;241m=\u001B[39m stmt\n\u001B[1;32m     54\u001B[0m frame\u001B[38;5;241m.\u001B[39mlino \u001B[38;5;241m=\u001B[39m stmt\u001B[38;5;241m.\u001B[39msource\u001B[38;5;241m.\u001B[39mlineno \u001B[38;5;28;01mif\u001B[39;00m stmt\u001B[38;5;241m.\u001B[39msource \u001B[38;5;28;01melse\u001B[39;00m \u001B[38;5;241m0\u001B[39m\n\u001B[0;32m---> 55\u001B[0m stmt_results \u001B[38;5;241m=\u001B[39m \u001B[38;5;28;43mself\u001B[39;49m\u001B[38;5;241;43m.\u001B[39;49m\u001B[43meval_stmt\u001B[49m\u001B[43m(\u001B[49m\u001B[43mframe\u001B[49m\u001B[43m,\u001B[49m\u001B[43m \u001B[49m\u001B[43mstmt\u001B[49m\u001B[43m)\u001B[49m\n\u001B[1;32m     56\u001B[0m \u001B[38;5;28;01mif\u001B[39;00m \u001B[38;5;28misinstance\u001B[39m(stmt_results, \u001B[38;5;28mtuple\u001B[39m):\n\u001B[1;32m     57\u001B[0m     frame\u001B[38;5;241m.\u001B[39mset_values(stmt\u001B[38;5;241m.\u001B[39m_results, stmt_results)\n",
      "File \u001B[0;32m~/miniconda3/lib/python3.12/site-packages/kirin/interp/base.py:347\u001B[0m, in \u001B[0;36mBaseInterpreter.eval_stmt\u001B[0;34m(self, frame, stmt)\u001B[0m\n\u001B[1;32m    344\u001B[0m     name \u001B[38;5;241m=\u001B[39m stmt\u001B[38;5;241m.\u001B[39mdialect\u001B[38;5;241m.\u001B[39mname \u001B[38;5;28;01mif\u001B[39;00m stmt\u001B[38;5;241m.\u001B[39mdialect \u001B[38;5;28;01melse\u001B[39;00m \u001B[38;5;124m\"\u001B[39m\u001B[38;5;124mNone\u001B[39m\u001B[38;5;124m\"\u001B[39m\n\u001B[1;32m    345\u001B[0m     \u001B[38;5;28;01mraise\u001B[39;00m \u001B[38;5;167;01mValueError\u001B[39;00m(\u001B[38;5;124mf\u001B[39m\u001B[38;5;124m\"\u001B[39m\u001B[38;5;124mdialect \u001B[39m\u001B[38;5;132;01m{\u001B[39;00mname\u001B[38;5;132;01m}\u001B[39;00m\u001B[38;5;124m is not supported by \u001B[39m\u001B[38;5;132;01m{\u001B[39;00m\u001B[38;5;28mself\u001B[39m\u001B[38;5;241m.\u001B[39mdialects\u001B[38;5;132;01m}\u001B[39;00m\u001B[38;5;124m\"\u001B[39m)\n\u001B[0;32m--> 347\u001B[0m \u001B[38;5;28;01mreturn\u001B[39;00m \u001B[38;5;28;43mself\u001B[39;49m\u001B[38;5;241;43m.\u001B[39;49m\u001B[43meval_stmt_fallback\u001B[49m\u001B[43m(\u001B[49m\u001B[43mframe\u001B[49m\u001B[43m,\u001B[49m\u001B[43m \u001B[49m\u001B[43mstmt\u001B[49m\u001B[43m)\u001B[49m\n",
      "File \u001B[0;32m~/miniconda3/lib/python3.12/site-packages/kirin/interp/base.py:374\u001B[0m, in \u001B[0;36mBaseInterpreter.eval_stmt_fallback\u001B[0;34m(self, frame, stmt)\u001B[0m\n\u001B[1;32m    358\u001B[0m \u001B[38;5;250m\u001B[39m\u001B[38;5;124;03m\"\"\"The fallback implementation of statements.\u001B[39;00m\n\u001B[1;32m    359\u001B[0m \n\u001B[1;32m    360\u001B[0m \u001B[38;5;124;03mThis is called when no implementation is found for the statement.\u001B[39;00m\n\u001B[0;32m   (...)\u001B[0m\n\u001B[1;32m    370\u001B[0m \u001B[38;5;124;03m    Overload this method to provide a fallback implementation for statements.\u001B[39;00m\n\u001B[1;32m    371\u001B[0m \u001B[38;5;124;03m\"\"\"\u001B[39;00m\n\u001B[1;32m    372\u001B[0m \u001B[38;5;66;03m# NOTE: not using f-string here because 3.10 and 3.11 have\u001B[39;00m\n\u001B[1;32m    373\u001B[0m \u001B[38;5;66;03m#  parser bug that doesn't allow f-string in raise statement\u001B[39;00m\n\u001B[0;32m--> 374\u001B[0m \u001B[38;5;28;01mraise\u001B[39;00m InterpreterError(\n\u001B[1;32m    375\u001B[0m     \u001B[38;5;124m\"\u001B[39m\u001B[38;5;124mno implementation for stmt \u001B[39m\u001B[38;5;124m\"\u001B[39m\n\u001B[1;32m    376\u001B[0m     \u001B[38;5;241m+\u001B[39m stmt\u001B[38;5;241m.\u001B[39mprint_str(end\u001B[38;5;241m=\u001B[39m\u001B[38;5;124m\"\u001B[39m\u001B[38;5;124m\"\u001B[39m)\n\u001B[1;32m    377\u001B[0m     \u001B[38;5;241m+\u001B[39m \u001B[38;5;124m\"\u001B[39m\u001B[38;5;124m from \u001B[39m\u001B[38;5;124m\"\u001B[39m\n\u001B[1;32m    378\u001B[0m     \u001B[38;5;241m+\u001B[39m \u001B[38;5;28mstr\u001B[39m(\u001B[38;5;28mtype\u001B[39m(\u001B[38;5;28mself\u001B[39m))\n\u001B[1;32m    379\u001B[0m )\n",
      "\u001B[0;31mInterpreterError\u001B[0m: no implementation for stmt \u001B[34mqasm2.core\u001B[0m.qreg.new(\u001B[33mn_qubits=\u001B[0m%0)\u001B[30m : \u001B[0m\u001B[30m!py.QReg\u001B[0m from <class 'kirin.interp.concrete.Interpreter'>"
     ]
    }
   ],
   "execution_count": 1
  },
  {
   "metadata": {
    "ExecuteTime": {
     "end_time": "2025-04-13T08:40:43.238303Z",
     "start_time": "2025-04-13T08:40:41.922765Z"
    }
   },
   "cell_type": "code",
   "source": [
    "device = PyQrack()\n",
    "final = device.run(main)"
   ],
   "id": "2db92e7b905cdee4",
   "outputs": [
    {
     "name": "stdout",
     "output_type": "stream",
     "text": [
      "Collecting ply\r\n",
      "  Downloading ply-3.11-py2.py3-none-any.whl.metadata (844 bytes)\r\n",
      "Downloading ply-3.11-py2.py3-none-any.whl (49 kB)\r\n",
      "Installing collected packages: ply\r\n",
      "Successfully installed ply-3.11\r\n",
      "Note: you may need to restart the kernel to use updated packages.\n"
     ]
    },
    {
     "ename": "NameError",
     "evalue": "name 'main' is not defined",
     "output_type": "error",
     "traceback": [
      "\u001B[0;31m---------------------------------------------------------------------------\u001B[0m",
      "\u001B[0;31mNameError\u001B[0m                                 Traceback (most recent call last)",
      "Cell \u001B[0;32mIn[3], line 5\u001B[0m\n\u001B[1;32m      1\u001B[0m get_ipython()\u001B[38;5;241m.\u001B[39mrun_line_magic(\u001B[38;5;124m'\u001B[39m\u001B[38;5;124mpip\u001B[39m\u001B[38;5;124m'\u001B[39m, \u001B[38;5;124m'\u001B[39m\u001B[38;5;124minstall ply\u001B[39m\u001B[38;5;124m'\u001B[39m)\n\u001B[1;32m      4\u001B[0m device \u001B[38;5;241m=\u001B[39m PyQrack()\n\u001B[0;32m----> 5\u001B[0m final \u001B[38;5;241m=\u001B[39m device\u001B[38;5;241m.\u001B[39mrun(\u001B[43mmain\u001B[49m)\n",
      "\u001B[0;31mNameError\u001B[0m: name 'main' is not defined"
     ]
    }
   ],
   "execution_count": 3
  },
  {
   "metadata": {},
   "cell_type": "markdown",
   "source": "# IMPORTANT PROCESS BELOW WITH FINDING QUBIT VALUE",
   "id": "53c7bfe21b83c1ea"
  },
  {
   "metadata": {
    "ExecuteTime": {
     "end_time": "2025-04-13T06:40:23.437213Z",
     "start_time": "2025-04-13T06:22:22.067562Z"
    }
   },
   "cell_type": "code",
   "source": "final[0].ref.sim_reg.out_ket()",
   "id": "9dffaca4f482d1df",
   "outputs": [
    {
     "data": {
      "text/plain": [
       "[(1+0j), 0j, 0j, 0j, 0j, 0j, 0j, 0j]"
      ]
     },
     "execution_count": 5,
     "metadata": {},
     "output_type": "execute_result"
    }
   ],
   "execution_count": 5
  }
 ],
 "metadata": {
  "kernelspec": {
   "display_name": "Python 3",
   "language": "python",
   "name": "python3"
  },
  "language_info": {
   "codemirror_mode": {
    "name": "ipython",
    "version": 2
   },
   "file_extension": ".py",
   "mimetype": "text/x-python",
   "name": "python",
   "nbconvert_exporter": "python",
   "pygments_lexer": "ipython2",
   "version": "2.7.6"
  }
 },
 "nbformat": 4,
 "nbformat_minor": 5
}
