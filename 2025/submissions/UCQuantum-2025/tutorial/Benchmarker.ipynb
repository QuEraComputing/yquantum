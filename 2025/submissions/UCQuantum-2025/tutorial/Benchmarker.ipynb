{
 "cells": [
  {
   "metadata": {},
   "cell_type": "markdown",
   "source": [
    "# Benchmarker\n",
    "Run arbitrary circuit under different noise scenarios and error probabilities,\n",
    "<br> retrieve final state either from simulator or with tomography,\n",
    "<br> calculate check quantities with noiseless circuit (trace distance, fidelity),\n",
    "<br> use mpl to visualize error issues."
   ],
   "id": "deb8bb6888e058a2"
  },
  {
   "metadata": {
    "ExecuteTime": {
     "end_time": "2025-04-13T06:50:49.928217Z",
     "start_time": "2025-04-13T06:50:48.613109Z"
    }
   },
   "cell_type": "code",
   "source": [
    "import math\n",
    "import matplotlib.pyplot as plt\n",
    "\n",
    "from PIL.EpsImagePlugin import has_ghostscript\n",
    "from bloqade import qasm2 as qasm2\n",
    "from bloqade.pyqrack import PyQrack\n",
    "\n",
    "pi = math.pi"
   ],
   "id": "54c53be734ee2081",
   "outputs": [],
   "execution_count": 1
  },
  {
   "metadata": {
    "ExecuteTime": {
     "end_time": "2025-04-13T06:50:49.935989Z",
     "start_time": "2025-04-13T06:50:49.932694Z"
    }
   },
   "cell_type": "code",
   "source": [
    "from bloqade.pyqrack.noise.native import PyQrackMethods as methods\n",
    "class Benchmark:\n",
    "\n",
    "    def __init__(self, circuit):\n",
    "        self.circuit = circuit\n",
    "        self.device = PyQrack()\n",
    "\n",
    "    def run_circ_noisy(self, qargs, a: float, b:float, c:float):\n",
    "        methods.apply_pauli_error(interp = self.device, qarg =qargs, px = a, py = 0, pz = b)\n",
    "        methods.atom_loss_channel(interp = self.device, qarg =qargs )\n",
    "        return self.device.run(self.circuit)\n",
    "\n",
    "    def calc_noise_impact(self, qargs, a: float, b:float, c:float):\n",
    "        state_ideal = self.device.run(self.circuit)[0].ref.sim_reg.out_ket()\n",
    "        state_noisy = self.run_circ_noisy(self.device, a, b, c)\n",
    "\n",
    "        # TRACE DISTANCE calculation: 1/2 Tr( |A-B|\n",
    "        tr = 0\n",
    "        for i in range(len(state_ideal)):\n",
    "            tr += abs( abs(state_ideal[i])^2 - abs(state_noisy[i])^2)\n",
    "        return tr\n",
    "\n",
    "    def run_benchmark(self, qargs) -> None:\n",
    "        # intended to graph in matplotlib the trace distance\n",
    "        def graph(a:float, b:float, c:float):\n",
    "            return 0\n",
    "        base_probs = [.01, .05, .1]\n",
    "\n",
    "        for base_prob in base_probs:\n",
    "            graph(base_prob, 0, 0)\n",
    "            graph(0, base_prob, 0)\n",
    "            graph(0, 0, base_prob)\n",
    "        graph(.05, .05, .05)\n",
    "        graph (.1, .1, .1)\n",
    "\n",
    "        return 0"
   ],
   "id": "9721788307976769",
   "outputs": [],
   "execution_count": 2
  }
 ],
 "metadata": {
  "kernelspec": {
   "display_name": "Python 3",
   "language": "python",
   "name": "python3"
  },
  "language_info": {
   "codemirror_mode": {
    "name": "ipython",
    "version": 2
   },
   "file_extension": ".py",
   "mimetype": "text/x-python",
   "name": "python",
   "nbconvert_exporter": "python",
   "pygments_lexer": "ipython2",
   "version": "2.7.6"
  }
 },
 "nbformat": 4,
 "nbformat_minor": 5
}
