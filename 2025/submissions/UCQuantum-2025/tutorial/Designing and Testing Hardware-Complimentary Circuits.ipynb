{
 "cells": [
  {
   "cell_type": "markdown",
   "id": "ad415b12a3178289",
   "metadata": {},
   "source": [
    "# Designing and Testing Hardware-Complementary Quantum Circuits\n",
    "\n",
    "In this notebook, we aim to explore differences between three specific but equivalent circuits on QuEra's natural atom platform. "
   ]
  },
  {
   "cell_type": "markdown",
   "id": "e2a50530",
   "metadata": {},
   "source": [
    "One key quality of quantum computing is entanglement. How would the maximumly entangled state look like?\n",
    "\n",
    "That state is known as the GHZ (Greenberger–Horne–Zeilinger) state. For $N$ qubits, it is defined as:\n",
    "\n",
    "$$ |GHZ\\rangle = \\frac{1}{\\sqrt{2}} (|0\\rangle^{\\otimes N} + |1\\rangle^{\\otimes N}) = \\frac{1}{\\sqrt{2}} (|00...0\\rangle + |11...1\\rangle) $$\n",
    "\n",
    "This state represents a superposition where all qubits are either in the state $|0\\rangle$ or all are in the state $|1\\rangle$.\n",
    "\n",
    "For the purpose of our tutorial, we will consider the case when $N$ is a power of 2. \n",
    "\n",
    "The simplest way to achieve this state is perhaps with a single Hadamard and expand it to all the qubits, one by one. \n",
    "\n",
    "Let's initialize by importing the relevant python packages. "
   ]
  },
  {
   "cell_type": "code",
   "execution_count": 6,
   "id": "723573aa",
   "metadata": {},
   "outputs": [
    {
     "name": "stdout",
     "output_type": "stream",
     "text": [
      "Requirement already satisfied: bloqade in /Users/zhoukairui/Projects/Learning/Python/.conda/lib/python3.11/site-packages (0.23.0)\n",
      "Requirement already satisfied: numpy in /Users/zhoukairui/Projects/Learning/Python/.conda/lib/python3.11/site-packages (2.2.4)\n",
      "Requirement already satisfied: bloqade-analog~=0.16.3 in /Users/zhoukairui/Projects/Learning/Python/.conda/lib/python3.11/site-packages (from bloqade) (0.16.3)\n",
      "Requirement already satisfied: bloqade-circuit~=0.1.0 in /Users/zhoukairui/Projects/Learning/Python/.conda/lib/python3.11/site-packages (from bloqade-circuit[cirq,qasm2,qbraid,vis]~=0.1.0->bloqade) (0.1.0)\n",
      "Requirement already satisfied: amazon-braket-sdk>=1.78.0 in /Users/zhoukairui/Projects/Learning/Python/.conda/lib/python3.11/site-packages (from bloqade-analog~=0.16.3->bloqade) (1.91.0)\n",
      "Requirement already satisfied: beartype>=0.15.0 in /Users/zhoukairui/Projects/Learning/Python/.conda/lib/python3.11/site-packages (from bloqade-analog~=0.16.3->bloqade) (0.20.2)\n",
      "Requirement already satisfied: bokeh>=3.2.2 in /Users/zhoukairui/Projects/Learning/Python/.conda/lib/python3.11/site-packages (from bloqade-analog~=0.16.3->bloqade) (3.7.2)\n",
      "Requirement already satisfied: juliacall>=0.9.14 in /Users/zhoukairui/Projects/Learning/Python/.conda/lib/python3.11/site-packages (from bloqade-analog~=0.16.3->bloqade) (0.9.24)\n",
      "Requirement already satisfied: numba>=0.58.0 in /Users/zhoukairui/Projects/Learning/Python/.conda/lib/python3.11/site-packages (from bloqade-analog~=0.16.3->bloqade) (0.61.2)\n",
      "Requirement already satisfied: pandas>=2.1.0 in /Users/zhoukairui/Projects/Learning/Python/.conda/lib/python3.11/site-packages (from bloqade-analog~=0.16.3->bloqade) (2.2.3)\n",
      "Requirement already satisfied: plotext>=5.2.8 in /Users/zhoukairui/Projects/Learning/Python/.conda/lib/python3.11/site-packages (from bloqade-analog~=0.16.3->bloqade) (5.3.2)\n",
      "Requirement already satisfied: plum-dispatch>=2.2.2 in /Users/zhoukairui/Projects/Learning/Python/.conda/lib/python3.11/site-packages (from bloqade-analog~=0.16.3->bloqade) (2.5.7)\n",
      "Requirement already satisfied: pydantic>=2.0 in /Users/zhoukairui/Projects/Learning/Python/.conda/lib/python3.11/site-packages (from bloqade-analog~=0.16.3->bloqade) (2.10.6)\n",
      "Requirement already satisfied: requests-sigv4>=0.1.6 in /Users/zhoukairui/Projects/Learning/Python/.conda/lib/python3.11/site-packages (from bloqade-analog~=0.16.3->bloqade) (0.1.6)\n",
      "Requirement already satisfied: scipy>=1.9.3 in /Users/zhoukairui/Projects/Learning/Python/.conda/lib/python3.11/site-packages (from bloqade-analog~=0.16.3->bloqade) (1.15.2)\n",
      "Requirement already satisfied: simplejson>=3.19.1 in /Users/zhoukairui/Projects/Learning/Python/.conda/lib/python3.11/site-packages (from bloqade-analog~=0.16.3->bloqade) (3.20.1)\n",
      "Requirement already satisfied: tabulate>=0.9.0 in /Users/zhoukairui/Projects/Learning/Python/.conda/lib/python3.11/site-packages (from bloqade-analog~=0.16.3->bloqade) (0.9.0)\n",
      "Requirement already satisfied: kirin-toolchain~=0.16.0 in /Users/zhoukairui/Projects/Learning/Python/.conda/lib/python3.11/site-packages (from bloqade-circuit~=0.1.0->bloqade-circuit[cirq,qasm2,qbraid,vis]~=0.1.0->bloqade) (0.16.5)\n",
      "Requirement already satisfied: rich>=13.9.4 in /Users/zhoukairui/Projects/Learning/Python/.conda/lib/python3.11/site-packages (from bloqade-circuit~=0.1.0->bloqade-circuit[cirq,qasm2,qbraid,vis]~=0.1.0->bloqade) (14.0.0)\n",
      "Requirement already satisfied: cirq-core>=1.4.1 in /Users/zhoukairui/Projects/Learning/Python/.conda/lib/python3.11/site-packages (from bloqade-circuit[cirq,qasm2,qbraid,vis]~=0.1.0->bloqade) (1.5.0)\n",
      "Requirement already satisfied: lark>=1.2.2 in /Users/zhoukairui/Projects/Learning/Python/.conda/lib/python3.11/site-packages (from bloqade-circuit[cirq,qasm2,qbraid,vis]~=0.1.0->bloqade) (1.2.2)\n",
      "Requirement already satisfied: qbraid>=0.9.3 in /Users/zhoukairui/Projects/Learning/Python/.conda/lib/python3.11/site-packages (from bloqade-circuit[cirq,qasm2,qbraid,vis]~=0.1.0->bloqade) (0.9.5)\n",
      "Requirement already satisfied: ffmpeg>=1.4 in /Users/zhoukairui/Projects/Learning/Python/.conda/lib/python3.11/site-packages (from bloqade-circuit[cirq,qasm2,qbraid,vis]~=0.1.0->bloqade) (1.4)\n",
      "Requirement already satisfied: matplotlib>=3.9.2 in /Users/zhoukairui/Projects/Learning/Python/.conda/lib/python3.11/site-packages (from bloqade-circuit[cirq,qasm2,qbraid,vis]~=0.1.0->bloqade) (3.10.1)\n",
      "Requirement already satisfied: pyqt5>=5.15.11 in /Users/zhoukairui/Projects/Learning/Python/.conda/lib/python3.11/site-packages (from bloqade-circuit[cirq,qasm2,qbraid,vis]~=0.1.0->bloqade) (5.15.11)\n",
      "Requirement already satisfied: tqdm>=4.66.5 in /Users/zhoukairui/Projects/Learning/Python/.conda/lib/python3.11/site-packages (from bloqade-circuit[cirq,qasm2,qbraid,vis]~=0.1.0->bloqade) (4.67.1)\n",
      "Requirement already satisfied: amazon-braket-schemas>=1.23.0 in /Users/zhoukairui/Projects/Learning/Python/.conda/lib/python3.11/site-packages (from amazon-braket-sdk>=1.78.0->bloqade-analog~=0.16.3->bloqade) (1.23.3)\n",
      "Requirement already satisfied: amazon-braket-default-simulator>=1.26.0 in /Users/zhoukairui/Projects/Learning/Python/.conda/lib/python3.11/site-packages (from amazon-braket-sdk>=1.78.0->bloqade-analog~=0.16.3->bloqade) (1.26.4)\n",
      "Requirement already satisfied: oqpy~=0.3.5 in /Users/zhoukairui/Projects/Learning/Python/.conda/lib/python3.11/site-packages (from amazon-braket-sdk>=1.78.0->bloqade-analog~=0.16.3->bloqade) (0.3.7)\n",
      "Requirement already satisfied: backoff in /Users/zhoukairui/Projects/Learning/Python/.conda/lib/python3.11/site-packages (from amazon-braket-sdk>=1.78.0->bloqade-analog~=0.16.3->bloqade) (2.2.1)\n",
      "Requirement already satisfied: boltons in /Users/zhoukairui/Projects/Learning/Python/.conda/lib/python3.11/site-packages (from amazon-braket-sdk>=1.78.0->bloqade-analog~=0.16.3->bloqade) (25.0.0)\n",
      "Requirement already satisfied: boto3>=1.28.53 in /Users/zhoukairui/Projects/Learning/Python/.conda/lib/python3.11/site-packages (from amazon-braket-sdk>=1.78.0->bloqade-analog~=0.16.3->bloqade) (1.37.33)\n",
      "Requirement already satisfied: cloudpickle==2.2.1 in /Users/zhoukairui/Projects/Learning/Python/.conda/lib/python3.11/site-packages (from amazon-braket-sdk>=1.78.0->bloqade-analog~=0.16.3->bloqade) (2.2.1)\n",
      "Requirement already satisfied: nest-asyncio in /Users/zhoukairui/Projects/Learning/Python/.conda/lib/python3.11/site-packages (from amazon-braket-sdk>=1.78.0->bloqade-analog~=0.16.3->bloqade) (1.6.0)\n",
      "Requirement already satisfied: networkx in /Users/zhoukairui/Projects/Learning/Python/.conda/lib/python3.11/site-packages (from amazon-braket-sdk>=1.78.0->bloqade-analog~=0.16.3->bloqade) (3.4.2)\n",
      "Requirement already satisfied: openpulse in /Users/zhoukairui/Projects/Learning/Python/.conda/lib/python3.11/site-packages (from amazon-braket-sdk>=1.78.0->bloqade-analog~=0.16.3->bloqade) (1.0.1)\n",
      "Requirement already satisfied: openqasm3 in /Users/zhoukairui/Projects/Learning/Python/.conda/lib/python3.11/site-packages (from amazon-braket-sdk>=1.78.0->bloqade-analog~=0.16.3->bloqade) (1.0.1)\n",
      "Requirement already satisfied: sympy in /Users/zhoukairui/Projects/Learning/Python/.conda/lib/python3.11/site-packages (from amazon-braket-sdk>=1.78.0->bloqade-analog~=0.16.3->bloqade) (1.13.3)\n",
      "Requirement already satisfied: backports.entry-points-selectable in /Users/zhoukairui/Projects/Learning/Python/.conda/lib/python3.11/site-packages (from amazon-braket-sdk>=1.78.0->bloqade-analog~=0.16.3->bloqade) (1.3.0)\n",
      "Requirement already satisfied: Jinja2>=2.9 in /Users/zhoukairui/Projects/Learning/Python/.conda/lib/python3.11/site-packages (from bokeh>=3.2.2->bloqade-analog~=0.16.3->bloqade) (3.1.6)\n",
      "Requirement already satisfied: contourpy>=1.2 in /Users/zhoukairui/Projects/Learning/Python/.conda/lib/python3.11/site-packages (from bokeh>=3.2.2->bloqade-analog~=0.16.3->bloqade) (1.3.1)\n",
      "Requirement already satisfied: narwhals>=1.13 in /Users/zhoukairui/Projects/Learning/Python/.conda/lib/python3.11/site-packages (from bokeh>=3.2.2->bloqade-analog~=0.16.3->bloqade) (1.34.1)\n",
      "Requirement already satisfied: packaging>=16.8 in /Users/zhoukairui/Projects/Learning/Python/.conda/lib/python3.11/site-packages (from bokeh>=3.2.2->bloqade-analog~=0.16.3->bloqade) (24.2)\n",
      "Requirement already satisfied: pillow>=7.1.0 in /Users/zhoukairui/Projects/Learning/Python/.conda/lib/python3.11/site-packages (from bokeh>=3.2.2->bloqade-analog~=0.16.3->bloqade) (11.1.0)\n",
      "Requirement already satisfied: PyYAML>=3.10 in /Users/zhoukairui/Projects/Learning/Python/.conda/lib/python3.11/site-packages (from bokeh>=3.2.2->bloqade-analog~=0.16.3->bloqade) (6.0.2)\n",
      "Requirement already satisfied: tornado>=6.2 in /Users/zhoukairui/Projects/Learning/Python/.conda/lib/python3.11/site-packages (from bokeh>=3.2.2->bloqade-analog~=0.16.3->bloqade) (6.4.2)\n",
      "Requirement already satisfied: xyzservices>=2021.09.1 in /Users/zhoukairui/Projects/Learning/Python/.conda/lib/python3.11/site-packages (from bokeh>=3.2.2->bloqade-analog~=0.16.3->bloqade) (2025.1.0)\n",
      "Requirement already satisfied: attrs>=21.3.0 in /Users/zhoukairui/Projects/Learning/Python/.conda/lib/python3.11/site-packages (from cirq-core>=1.4.1->bloqade-circuit[cirq,qasm2,qbraid,vis]~=0.1.0->bloqade) (25.3.0)\n",
      "Requirement already satisfied: duet>=0.2.8 in /Users/zhoukairui/Projects/Learning/Python/.conda/lib/python3.11/site-packages (from cirq-core>=1.4.1->bloqade-circuit[cirq,qasm2,qbraid,vis]~=0.1.0->bloqade) (0.2.9)\n",
      "Requirement already satisfied: sortedcontainers~=2.0 in /Users/zhoukairui/Projects/Learning/Python/.conda/lib/python3.11/site-packages (from cirq-core>=1.4.1->bloqade-circuit[cirq,qasm2,qbraid,vis]~=0.1.0->bloqade) (2.4.0)\n",
      "Requirement already satisfied: typing_extensions>=4.2 in /Users/zhoukairui/Projects/Learning/Python/.conda/lib/python3.11/site-packages (from cirq-core>=1.4.1->bloqade-circuit[cirq,qasm2,qbraid,vis]~=0.1.0->bloqade) (4.13.2)\n",
      "Requirement already satisfied: ply>=3.6 in /Users/zhoukairui/Projects/Learning/Python/.conda/lib/python3.11/site-packages (from cirq-core[contrib]>=1.4.1; extra == \"cirq\"->bloqade-circuit[cirq,qasm2,qbraid,vis]~=0.1.0->bloqade) (3.11)\n",
      "Requirement already satisfied: pylatex~=1.4 in /Users/zhoukairui/Projects/Learning/Python/.conda/lib/python3.11/site-packages (from cirq-core[contrib]>=1.4.1; extra == \"cirq\"->bloqade-circuit[cirq,qasm2,qbraid,vis]~=0.1.0->bloqade) (1.4.2)\n",
      "Requirement already satisfied: quimb>=1.8 in /Users/zhoukairui/Projects/Learning/Python/.conda/lib/python3.11/site-packages (from cirq-core[contrib]>=1.4.1; extra == \"cirq\"->bloqade-circuit[cirq,qasm2,qbraid,vis]~=0.1.0->bloqade) (1.10.0)\n",
      "Requirement already satisfied: opt_einsum in /Users/zhoukairui/Projects/Learning/Python/.conda/lib/python3.11/site-packages (from cirq-core[contrib]>=1.4.1; extra == \"cirq\"->bloqade-circuit[cirq,qasm2,qbraid,vis]~=0.1.0->bloqade) (3.4.0)\n",
      "Requirement already satisfied: juliapkg~=0.1.8 in /Users/zhoukairui/Projects/Learning/Python/.conda/lib/python3.11/site-packages (from juliacall>=0.9.14->bloqade-analog~=0.16.3->bloqade) (0.1.16)\n",
      "Requirement already satisfied: cycler>=0.10 in /Users/zhoukairui/Projects/Learning/Python/.conda/lib/python3.11/site-packages (from matplotlib>=3.9.2->bloqade-circuit[cirq,qasm2,qbraid,vis]~=0.1.0->bloqade) (0.12.1)\n",
      "Requirement already satisfied: fonttools>=4.22.0 in /Users/zhoukairui/Projects/Learning/Python/.conda/lib/python3.11/site-packages (from matplotlib>=3.9.2->bloqade-circuit[cirq,qasm2,qbraid,vis]~=0.1.0->bloqade) (4.57.0)\n",
      "Requirement already satisfied: kiwisolver>=1.3.1 in /Users/zhoukairui/Projects/Learning/Python/.conda/lib/python3.11/site-packages (from matplotlib>=3.9.2->bloqade-circuit[cirq,qasm2,qbraid,vis]~=0.1.0->bloqade) (1.4.8)\n",
      "Requirement already satisfied: pyparsing>=2.3.1 in /Users/zhoukairui/Projects/Learning/Python/.conda/lib/python3.11/site-packages (from matplotlib>=3.9.2->bloqade-circuit[cirq,qasm2,qbraid,vis]~=0.1.0->bloqade) (3.2.3)\n",
      "Requirement already satisfied: python-dateutil>=2.7 in /Users/zhoukairui/Projects/Learning/Python/.conda/lib/python3.11/site-packages (from matplotlib>=3.9.2->bloqade-circuit[cirq,qasm2,qbraid,vis]~=0.1.0->bloqade) (2.9.0.post0)\n",
      "Requirement already satisfied: llvmlite<0.45,>=0.44.0dev0 in /Users/zhoukairui/Projects/Learning/Python/.conda/lib/python3.11/site-packages (from numba>=0.58.0->bloqade-analog~=0.16.3->bloqade) (0.44.0)\n",
      "Requirement already satisfied: pytz>=2020.1 in /Users/zhoukairui/Projects/Learning/Python/.conda/lib/python3.11/site-packages (from pandas>=2.1.0->bloqade-analog~=0.16.3->bloqade) (2025.2)\n",
      "Requirement already satisfied: tzdata>=2022.7 in /Users/zhoukairui/Projects/Learning/Python/.conda/lib/python3.11/site-packages (from pandas>=2.1.0->bloqade-analog~=0.16.3->bloqade) (2025.2)\n",
      "Requirement already satisfied: annotated-types>=0.6.0 in /Users/zhoukairui/Projects/Learning/Python/.conda/lib/python3.11/site-packages (from pydantic>=2.0->bloqade-analog~=0.16.3->bloqade) (0.7.0)\n",
      "Requirement already satisfied: pydantic-core==2.27.2 in /Users/zhoukairui/Projects/Learning/Python/.conda/lib/python3.11/site-packages (from pydantic>=2.0->bloqade-analog~=0.16.3->bloqade) (2.27.2)\n",
      "Requirement already satisfied: PyQt5-sip<13,>=12.15 in /Users/zhoukairui/Projects/Learning/Python/.conda/lib/python3.11/site-packages (from pyqt5>=5.15.11->bloqade-circuit[cirq,qasm2,qbraid,vis]~=0.1.0->bloqade) (12.17.0)\n",
      "Requirement already satisfied: PyQt5-Qt5<5.16.0,>=5.15.2 in /Users/zhoukairui/Projects/Learning/Python/.conda/lib/python3.11/site-packages (from pyqt5>=5.15.11->bloqade-circuit[cirq,qasm2,qbraid,vis]~=0.1.0->bloqade) (5.15.16)\n",
      "Requirement already satisfied: rustworkx>=0.15.0 in /Users/zhoukairui/Projects/Learning/Python/.conda/lib/python3.11/site-packages (from qbraid>=0.9.3->bloqade-circuit[cirq,qasm2,qbraid,vis]~=0.1.0->bloqade) (0.16.0)\n",
      "Requirement already satisfied: qbraid-core>=0.1.25 in /Users/zhoukairui/Projects/Learning/Python/.conda/lib/python3.11/site-packages (from qbraid>=0.9.3->bloqade-circuit[cirq,qasm2,qbraid,vis]~=0.1.0->bloqade) (0.1.36)\n",
      "Requirement already satisfied: pyqasm<0.4.0,>=0.3.0 in /Users/zhoukairui/Projects/Learning/Python/.conda/lib/python3.11/site-packages (from qbraid>=0.9.3->bloqade-circuit[cirq,qasm2,qbraid,vis]~=0.1.0->bloqade) (0.3.0)\n",
      "Requirement already satisfied: requests in /Users/zhoukairui/Projects/Learning/Python/.conda/lib/python3.11/site-packages (from requests-sigv4>=0.1.6->bloqade-analog~=0.16.3->bloqade) (2.32.3)\n",
      "Requirement already satisfied: requests-aws-sign in /Users/zhoukairui/Projects/Learning/Python/.conda/lib/python3.11/site-packages (from requests-sigv4>=0.1.6->bloqade-analog~=0.16.3->bloqade) (0.1.6)\n",
      "Requirement already satisfied: markdown-it-py>=2.2.0 in /Users/zhoukairui/Projects/Learning/Python/.conda/lib/python3.11/site-packages (from rich>=13.9.4->bloqade-circuit~=0.1.0->bloqade-circuit[cirq,qasm2,qbraid,vis]~=0.1.0->bloqade) (3.0.0)\n",
      "Requirement already satisfied: pygments<3.0.0,>=2.13.0 in /Users/zhoukairui/Projects/Learning/Python/.conda/lib/python3.11/site-packages (from rich>=13.9.4->bloqade-circuit~=0.1.0->bloqade-circuit[cirq,qasm2,qbraid,vis]~=0.1.0->bloqade) (2.19.1)\n",
      "Requirement already satisfied: antlr4-python3-runtime==4.9.2 in /Users/zhoukairui/Projects/Learning/Python/.conda/lib/python3.11/site-packages (from amazon-braket-default-simulator>=1.26.0->amazon-braket-sdk>=1.78.0->bloqade-analog~=0.16.3->bloqade) (4.9.2)\n",
      "Requirement already satisfied: botocore<1.38.0,>=1.37.33 in /Users/zhoukairui/Projects/Learning/Python/.conda/lib/python3.11/site-packages (from boto3>=1.28.53->amazon-braket-sdk>=1.78.0->bloqade-analog~=0.16.3->bloqade) (1.37.33)\n",
      "Requirement already satisfied: jmespath<2.0.0,>=0.7.1 in /Users/zhoukairui/Projects/Learning/Python/.conda/lib/python3.11/site-packages (from boto3>=1.28.53->amazon-braket-sdk>=1.78.0->bloqade-analog~=0.16.3->bloqade) (1.0.1)\n",
      "Requirement already satisfied: s3transfer<0.12.0,>=0.11.0 in /Users/zhoukairui/Projects/Learning/Python/.conda/lib/python3.11/site-packages (from boto3>=1.28.53->amazon-braket-sdk>=1.78.0->bloqade-analog~=0.16.3->bloqade) (0.11.4)\n",
      "Requirement already satisfied: juliapkg~=0.1.8 in /Users/zhoukairui/Projects/Learning/Python/.conda/lib/python3.11/site-packages (from juliacall>=0.9.14->bloqade-analog~=0.16.3->bloqade) (0.1.16)\n",
      "Requirement already satisfied: cycler>=0.10 in /Users/zhoukairui/Projects/Learning/Python/.conda/lib/python3.11/site-packages (from matplotlib>=3.9.2->bloqade-circuit[cirq,qasm2,qbraid,vis]~=0.1.0->bloqade) (0.12.1)\n",
      "Requirement already satisfied: fonttools>=4.22.0 in /Users/zhoukairui/Projects/Learning/Python/.conda/lib/python3.11/site-packages (from matplotlib>=3.9.2->bloqade-circuit[cirq,qasm2,qbraid,vis]~=0.1.0->bloqade) (4.57.0)\n",
      "Requirement already satisfied: kiwisolver>=1.3.1 in /Users/zhoukairui/Projects/Learning/Python/.conda/lib/python3.11/site-packages (from matplotlib>=3.9.2->bloqade-circuit[cirq,qasm2,qbraid,vis]~=0.1.0->bloqade) (1.4.8)\n",
      "Requirement already satisfied: pyparsing>=2.3.1 in /Users/zhoukairui/Projects/Learning/Python/.conda/lib/python3.11/site-packages (from matplotlib>=3.9.2->bloqade-circuit[cirq,qasm2,qbraid,vis]~=0.1.0->bloqade) (3.2.3)\n",
      "Requirement already satisfied: python-dateutil>=2.7 in /Users/zhoukairui/Projects/Learning/Python/.conda/lib/python3.11/site-packages (from matplotlib>=3.9.2->bloqade-circuit[cirq,qasm2,qbraid,vis]~=0.1.0->bloqade) (2.9.0.post0)\n",
      "Requirement already satisfied: llvmlite<0.45,>=0.44.0dev0 in /Users/zhoukairui/Projects/Learning/Python/.conda/lib/python3.11/site-packages (from numba>=0.58.0->bloqade-analog~=0.16.3->bloqade) (0.44.0)\n",
      "Requirement already satisfied: pytz>=2020.1 in /Users/zhoukairui/Projects/Learning/Python/.conda/lib/python3.11/site-packages (from pandas>=2.1.0->bloqade-analog~=0.16.3->bloqade) (2025.2)\n",
      "Requirement already satisfied: tzdata>=2022.7 in /Users/zhoukairui/Projects/Learning/Python/.conda/lib/python3.11/site-packages (from pandas>=2.1.0->bloqade-analog~=0.16.3->bloqade) (2025.2)\n",
      "Requirement already satisfied: annotated-types>=0.6.0 in /Users/zhoukairui/Projects/Learning/Python/.conda/lib/python3.11/site-packages (from pydantic>=2.0->bloqade-analog~=0.16.3->bloqade) (0.7.0)\n",
      "Requirement already satisfied: pydantic-core==2.27.2 in /Users/zhoukairui/Projects/Learning/Python/.conda/lib/python3.11/site-packages (from pydantic>=2.0->bloqade-analog~=0.16.3->bloqade) (2.27.2)\n",
      "Requirement already satisfied: PyQt5-sip<13,>=12.15 in /Users/zhoukairui/Projects/Learning/Python/.conda/lib/python3.11/site-packages (from pyqt5>=5.15.11->bloqade-circuit[cirq,qasm2,qbraid,vis]~=0.1.0->bloqade) (12.17.0)\n",
      "Requirement already satisfied: PyQt5-Qt5<5.16.0,>=5.15.2 in /Users/zhoukairui/Projects/Learning/Python/.conda/lib/python3.11/site-packages (from pyqt5>=5.15.11->bloqade-circuit[cirq,qasm2,qbraid,vis]~=0.1.0->bloqade) (5.15.16)\n",
      "Requirement already satisfied: rustworkx>=0.15.0 in /Users/zhoukairui/Projects/Learning/Python/.conda/lib/python3.11/site-packages (from qbraid>=0.9.3->bloqade-circuit[cirq,qasm2,qbraid,vis]~=0.1.0->bloqade) (0.16.0)\n",
      "Requirement already satisfied: qbraid-core>=0.1.25 in /Users/zhoukairui/Projects/Learning/Python/.conda/lib/python3.11/site-packages (from qbraid>=0.9.3->bloqade-circuit[cirq,qasm2,qbraid,vis]~=0.1.0->bloqade) (0.1.36)\n",
      "Requirement already satisfied: pyqasm<0.4.0,>=0.3.0 in /Users/zhoukairui/Projects/Learning/Python/.conda/lib/python3.11/site-packages (from qbraid>=0.9.3->bloqade-circuit[cirq,qasm2,qbraid,vis]~=0.1.0->bloqade) (0.3.0)\n",
      "Requirement already satisfied: requests in /Users/zhoukairui/Projects/Learning/Python/.conda/lib/python3.11/site-packages (from requests-sigv4>=0.1.6->bloqade-analog~=0.16.3->bloqade) (2.32.3)\n",
      "Requirement already satisfied: requests-aws-sign in /Users/zhoukairui/Projects/Learning/Python/.conda/lib/python3.11/site-packages (from requests-sigv4>=0.1.6->bloqade-analog~=0.16.3->bloqade) (0.1.6)\n",
      "Requirement already satisfied: markdown-it-py>=2.2.0 in /Users/zhoukairui/Projects/Learning/Python/.conda/lib/python3.11/site-packages (from rich>=13.9.4->bloqade-circuit~=0.1.0->bloqade-circuit[cirq,qasm2,qbraid,vis]~=0.1.0->bloqade) (3.0.0)\n",
      "Requirement already satisfied: pygments<3.0.0,>=2.13.0 in /Users/zhoukairui/Projects/Learning/Python/.conda/lib/python3.11/site-packages (from rich>=13.9.4->bloqade-circuit~=0.1.0->bloqade-circuit[cirq,qasm2,qbraid,vis]~=0.1.0->bloqade) (2.19.1)\n",
      "Requirement already satisfied: antlr4-python3-runtime==4.9.2 in /Users/zhoukairui/Projects/Learning/Python/.conda/lib/python3.11/site-packages (from amazon-braket-default-simulator>=1.26.0->amazon-braket-sdk>=1.78.0->bloqade-analog~=0.16.3->bloqade) (4.9.2)\n",
      "Requirement already satisfied: botocore<1.38.0,>=1.37.33 in /Users/zhoukairui/Projects/Learning/Python/.conda/lib/python3.11/site-packages (from boto3>=1.28.53->amazon-braket-sdk>=1.78.0->bloqade-analog~=0.16.3->bloqade) (1.37.33)\n",
      "Requirement already satisfied: jmespath<2.0.0,>=0.7.1 in /Users/zhoukairui/Projects/Learning/Python/.conda/lib/python3.11/site-packages (from boto3>=1.28.53->amazon-braket-sdk>=1.78.0->bloqade-analog~=0.16.3->bloqade) (1.0.1)\n",
      "Requirement already satisfied: s3transfer<0.12.0,>=0.11.0 in /Users/zhoukairui/Projects/Learning/Python/.conda/lib/python3.11/site-packages (from boto3>=1.28.53->amazon-braket-sdk>=1.78.0->bloqade-analog~=0.16.3->bloqade) (0.11.4)\n",
      "Requirement already satisfied: MarkupSafe>=2.0 in /Users/zhoukairui/Projects/Learning/Python/.conda/lib/python3.11/site-packages (from Jinja2>=2.9->bokeh>=3.2.2->bloqade-analog~=0.16.3->bloqade) (3.0.2)\n",
      "Requirement already satisfied: filelock<4.0,>=3.16 in /Users/zhoukairui/Projects/Learning/Python/.conda/lib/python3.11/site-packages (from juliapkg~=0.1.8->juliacall>=0.9.14->bloqade-analog~=0.16.3->bloqade) (3.18.0)\n",
      "Requirement already satisfied: semver<4.0,>=3.0 in /Users/zhoukairui/Projects/Learning/Python/.conda/lib/python3.11/site-packages (from juliapkg~=0.1.8->juliacall>=0.9.14->bloqade-analog~=0.16.3->bloqade) (3.0.4)\n",
      "Requirement already satisfied: mdurl~=0.1 in /Users/zhoukairui/Projects/Learning/Python/.conda/lib/python3.11/site-packages (from markdown-it-py>=2.2.0->rich>=13.9.4->bloqade-circuit~=0.1.0->bloqade-circuit[cirq,qasm2,qbraid,vis]~=0.1.0->bloqade) (0.1.2)\n",
      "Requirement already satisfied: mypy-extensions>=0.2.0 in /Users/zhoukairui/Projects/Learning/Python/.conda/lib/python3.11/site-packages (from oqpy~=0.3.5->amazon-braket-sdk>=1.78.0->bloqade-analog~=0.16.3->bloqade) (1.0.0)\n",
      "Requirement already satisfied: ordered-set in /Users/zhoukairui/Projects/Learning/Python/.conda/lib/python3.11/site-packages (from pylatex~=1.4->cirq-core[contrib]>=1.4.1; extra == \"cirq\"->bloqade-circuit[cirq,qasm2,qbraid,vis]~=0.1.0->bloqade) (4.1.0)\n",
      "Requirement already satisfied: six>=1.5 in /Users/zhoukairui/Projects/Learning/Python/.conda/lib/python3.11/site-packages (from python-dateutil>=2.7->matplotlib>=3.9.2->bloqade-circuit[cirq,qasm2,qbraid,vis]~=0.1.0->bloqade) (1.17.0)\n",
      "Requirement already satisfied: urllib3 in /Users/zhoukairui/Projects/Learning/Python/.conda/lib/python3.11/site-packages (from qbraid-core>=0.1.25->qbraid>=0.9.3->bloqade-circuit[cirq,qasm2,qbraid,vis]~=0.1.0->bloqade) (2.4.0)\n",
      "Requirement already satisfied: autoray>=0.6.12 in /Users/zhoukairui/Projects/Learning/Python/.conda/lib/python3.11/site-packages (from quimb>=1.8->cirq-core[contrib]>=1.4.1; extra == \"cirq\"->bloqade-circuit[cirq,qasm2,qbraid,vis]~=0.1.0->bloqade) (0.7.1)\n",
      "Requirement already satisfied: cotengra>=0.6.1 in /Users/zhoukairui/Projects/Learning/Python/.conda/lib/python3.11/site-packages (from quimb>=1.8->cirq-core[contrib]>=1.4.1; extra == \"cirq\"->bloqade-circuit[cirq,qasm2,qbraid,vis]~=0.1.0->bloqade) (0.7.2)\n",
      "Requirement already satisfied: cytoolz>=0.8.0 in /Users/zhoukairui/Projects/Learning/Python/.conda/lib/python3.11/site-packages (from quimb>=1.8->cirq-core[contrib]>=1.4.1; extra == \"cirq\"->bloqade-circuit[cirq,qasm2,qbraid,vis]~=0.1.0->bloqade) (1.0.1)\n",
      "Requirement already satisfied: psutil>=4.3.1 in /Users/zhoukairui/Projects/Learning/Python/.conda/lib/python3.11/site-packages (from quimb>=1.8->cirq-core[contrib]>=1.4.1; extra == \"cirq\"->bloqade-circuit[cirq,qasm2,qbraid,vis]~=0.1.0->bloqade) (5.9.0)\n",
      "Requirement already satisfied: charset-normalizer<4,>=2 in /Users/zhoukairui/Projects/Learning/Python/.conda/lib/python3.11/site-packages (from requests->requests-sigv4>=0.1.6->bloqade-analog~=0.16.3->bloqade) (3.4.1)\n",
      "Requirement already satisfied: MarkupSafe>=2.0 in /Users/zhoukairui/Projects/Learning/Python/.conda/lib/python3.11/site-packages (from Jinja2>=2.9->bokeh>=3.2.2->bloqade-analog~=0.16.3->bloqade) (3.0.2)\n",
      "Requirement already satisfied: filelock<4.0,>=3.16 in /Users/zhoukairui/Projects/Learning/Python/.conda/lib/python3.11/site-packages (from juliapkg~=0.1.8->juliacall>=0.9.14->bloqade-analog~=0.16.3->bloqade) (3.18.0)\n",
      "Requirement already satisfied: semver<4.0,>=3.0 in /Users/zhoukairui/Projects/Learning/Python/.conda/lib/python3.11/site-packages (from juliapkg~=0.1.8->juliacall>=0.9.14->bloqade-analog~=0.16.3->bloqade) (3.0.4)\n",
      "Requirement already satisfied: mdurl~=0.1 in /Users/zhoukairui/Projects/Learning/Python/.conda/lib/python3.11/site-packages (from markdown-it-py>=2.2.0->rich>=13.9.4->bloqade-circuit~=0.1.0->bloqade-circuit[cirq,qasm2,qbraid,vis]~=0.1.0->bloqade) (0.1.2)\n",
      "Requirement already satisfied: mypy-extensions>=0.2.0 in /Users/zhoukairui/Projects/Learning/Python/.conda/lib/python3.11/site-packages (from oqpy~=0.3.5->amazon-braket-sdk>=1.78.0->bloqade-analog~=0.16.3->bloqade) (1.0.0)\n",
      "Requirement already satisfied: ordered-set in /Users/zhoukairui/Projects/Learning/Python/.conda/lib/python3.11/site-packages (from pylatex~=1.4->cirq-core[contrib]>=1.4.1; extra == \"cirq\"->bloqade-circuit[cirq,qasm2,qbraid,vis]~=0.1.0->bloqade) (4.1.0)\n",
      "Requirement already satisfied: six>=1.5 in /Users/zhoukairui/Projects/Learning/Python/.conda/lib/python3.11/site-packages (from python-dateutil>=2.7->matplotlib>=3.9.2->bloqade-circuit[cirq,qasm2,qbraid,vis]~=0.1.0->bloqade) (1.17.0)\n",
      "Requirement already satisfied: urllib3 in /Users/zhoukairui/Projects/Learning/Python/.conda/lib/python3.11/site-packages (from qbraid-core>=0.1.25->qbraid>=0.9.3->bloqade-circuit[cirq,qasm2,qbraid,vis]~=0.1.0->bloqade) (2.4.0)\n",
      "Requirement already satisfied: autoray>=0.6.12 in /Users/zhoukairui/Projects/Learning/Python/.conda/lib/python3.11/site-packages (from quimb>=1.8->cirq-core[contrib]>=1.4.1; extra == \"cirq\"->bloqade-circuit[cirq,qasm2,qbraid,vis]~=0.1.0->bloqade) (0.7.1)\n",
      "Requirement already satisfied: cotengra>=0.6.1 in /Users/zhoukairui/Projects/Learning/Python/.conda/lib/python3.11/site-packages (from quimb>=1.8->cirq-core[contrib]>=1.4.1; extra == \"cirq\"->bloqade-circuit[cirq,qasm2,qbraid,vis]~=0.1.0->bloqade) (0.7.2)\n",
      "Requirement already satisfied: cytoolz>=0.8.0 in /Users/zhoukairui/Projects/Learning/Python/.conda/lib/python3.11/site-packages (from quimb>=1.8->cirq-core[contrib]>=1.4.1; extra == \"cirq\"->bloqade-circuit[cirq,qasm2,qbraid,vis]~=0.1.0->bloqade) (1.0.1)\n",
      "Requirement already satisfied: psutil>=4.3.1 in /Users/zhoukairui/Projects/Learning/Python/.conda/lib/python3.11/site-packages (from quimb>=1.8->cirq-core[contrib]>=1.4.1; extra == \"cirq\"->bloqade-circuit[cirq,qasm2,qbraid,vis]~=0.1.0->bloqade) (5.9.0)\n",
      "Requirement already satisfied: charset-normalizer<4,>=2 in /Users/zhoukairui/Projects/Learning/Python/.conda/lib/python3.11/site-packages (from requests->requests-sigv4>=0.1.6->bloqade-analog~=0.16.3->bloqade) (3.4.1)\n",
      "Requirement already satisfied: idna<4,>=2.5 in /Users/zhoukairui/Projects/Learning/Python/.conda/lib/python3.11/site-packages (from requests->requests-sigv4>=0.1.6->bloqade-analog~=0.16.3->bloqade) (3.10)\n",
      "Requirement already satisfied: certifi>=2017.4.17 in /Users/zhoukairui/Projects/Learning/Python/.conda/lib/python3.11/site-packages (from requests->requests-sigv4>=0.1.6->bloqade-analog~=0.16.3->bloqade) (2025.1.31)\n",
      "Requirement already satisfied: mpmath<1.4,>=1.1.0 in /Users/zhoukairui/Projects/Learning/Python/.conda/lib/python3.11/site-packages (from sympy->amazon-braket-sdk>=1.78.0->bloqade-analog~=0.16.3->bloqade) (1.3.0)\n",
      "Requirement already satisfied: toolz>=0.8.0 in /Users/zhoukairui/Projects/Learning/Python/.conda/lib/python3.11/site-packages (from cytoolz>=0.8.0->quimb>=1.8->cirq-core[contrib]>=1.4.1; extra == \"cirq\"->bloqade-circuit[cirq,qasm2,qbraid,vis]~=0.1.0->bloqade) (1.0.0)\n",
      "Requirement already satisfied: idna<4,>=2.5 in /Users/zhoukairui/Projects/Learning/Python/.conda/lib/python3.11/site-packages (from requests->requests-sigv4>=0.1.6->bloqade-analog~=0.16.3->bloqade) (3.10)\n",
      "Requirement already satisfied: certifi>=2017.4.17 in /Users/zhoukairui/Projects/Learning/Python/.conda/lib/python3.11/site-packages (from requests->requests-sigv4>=0.1.6->bloqade-analog~=0.16.3->bloqade) (2025.1.31)\n",
      "Requirement already satisfied: mpmath<1.4,>=1.1.0 in /Users/zhoukairui/Projects/Learning/Python/.conda/lib/python3.11/site-packages (from sympy->amazon-braket-sdk>=1.78.0->bloqade-analog~=0.16.3->bloqade) (1.3.0)\n",
      "Requirement already satisfied: toolz>=0.8.0 in /Users/zhoukairui/Projects/Learning/Python/.conda/lib/python3.11/site-packages (from cytoolz>=0.8.0->quimb>=1.8->cirq-core[contrib]>=1.4.1; extra == \"cirq\"->bloqade-circuit[cirq,qasm2,qbraid,vis]~=0.1.0->bloqade) (1.0.0)\n",
      "Note: you may need to restart the kernel to use updated packages.\n",
      "Note: you may need to restart the kernel to use updated packages.\n"
     ]
    }
   ],
   "source": [
    "%pip install bloqade numpy"
   ]
  },
  {
   "cell_type": "code",
   "execution_count": 7,
   "id": "ba345b63",
   "metadata": {
    "ExecuteTime": {
     "end_time": "2025-04-13T13:22:00.077229Z",
     "start_time": "2025-04-13T13:21:59.661927Z"
    }
   },
   "outputs": [],
   "source": [
    "import math\n",
    "\n",
    "from bloqade import qasm2\n",
    "from kirin.dialects import ilist"
   ]
  },
  {
   "cell_type": "markdown",
   "id": "1ff3da3c6d09d3bc",
   "metadata": {},
   "source": [
    "Apply Hadamard to the first qubit of the register, then multiple CZs ascending the register."
   ]
  },
  {
   "cell_type": "code",
   "execution_count": 8,
   "id": "47c0313f",
   "metadata": {
    "ExecuteTime": {
     "end_time": "2025-04-13T13:22:00.082900Z",
     "start_time": "2025-04-13T13:22:00.080918Z"
    }
   },
   "outputs": [],
   "source": [
    "def ghz_linear(n: int):\n",
    "    n_qubits = int(2**n)\n",
    "\n",
    "    @qasm2.extended\n",
    "    def ghz_linear_program():\n",
    "\n",
    "        qreg = qasm2.qreg(n_qubits)\n",
    "        # Apply a Hadamard on the first qubit\n",
    "        qasm2.h(qreg[0])\n",
    "        # Create a cascading sequence of CX gates\n",
    "        # necessary for quantum computers that\n",
    "        # only have nearest-neighbor connectivity between qubits\n",
    "        for i in range(1, n_qubits):\n",
    "            qasm2.cx(qreg[i - 1], qreg[i])\n",
    "\n",
    "    return ghz_linear_program"
   ]
  },
  {
   "cell_type": "markdown",
   "id": "e8caf056",
   "metadata": {},
   "source": [
    "\"How would we change the circuit so that it would be equivalent as before?\" \n",
    "\n",
    "Here's a sneaky trick. A control gate is equivalent to a control z gate with a Hadamard gate on both ends of the target of control z gate. Graphically:\n",
    "\n",
    "![CNOT equivalence](image/IMG_9576.jpeg)\n"
   ]
  },
  {
   "cell_type": "markdown",
   "id": "28f58daf07f39a00",
   "metadata": {},
   "source": [
    "# GHZPrep First Optimization\n",
    "The first optimization that we can make is to try to use global gates instead of local gates, wherever possible.\n",
    "<br>\n",
    "<br> Notice that if we expand every CNOT in the circuit, every qubit in the register will have a Hadamard gate as its first operation. If we replace all these single-qubit gates with just one global gate, substituting H for an equivalent $U(\\pi/2, 0, \\pi)$ gate, then the circuit is now optimized.\n",
    "<br>\n",
    "There is still more potential for optimization!\n",
    "\n",
    "Now, what would happen if apply this equivalent changes to each of the control gate in circuit one?\n",
    "\n",
    "\n",
    "![CNOT expansion](image/IMG_9577.jpeg)\n",
    "\n",
    "Observe that, quite elegantly, a Hadamard gate can be found at the beginning of each line. This can be replaced *global* Hadamard gate: a Hadamard gate that strike all qubits at the same time. The proper implementation is a global/parallel $U(\\pi/2, 0, \\pi)$ gate, but they are the same operation.\n",
    "<br>\n",
    "This is one occasion of QuEra's neutral atom hardware platform truly shines.\n",
    "\n",
    "After the global Hadamard gate, we are left with a sequence of Control-Z (CZ) gates, still arranged in a linear chain connecting adjacent qubits. For each qubit, Hadamard gates are applied after being the target for a first CZ, and before being the control bit for the second. While it may seem tempting to \"globalize\" the second set of hadamard gates, there are CZ gates between each one, so they are left alone.\n",
    "\n",
    "![First optimization](image/IMG_8645.jpg)\n"
   ]
  },
  {
   "cell_type": "code",
   "execution_count": 9,
   "id": "8aab611a4235fbc4",
   "metadata": {
    "ExecuteTime": {
     "end_time": "2025-04-13T13:22:00.220669Z",
     "start_time": "2025-04-13T13:22:00.217858Z"
    }
   },
   "outputs": [],
   "source": [
    "from kirin.dialects import ilist\n",
    "from bloqade.qasm2.dialects import core, parallel # Import core dialect as well\n",
    "from bloqade import qasm2 as qasm2\n",
    "import math\n",
    "\n",
    "def GHZ_global(n: int):\n",
    "    num_qubits_program = 2**n\n",
    "    @qasm2.extended\n",
    "    def GHZ_global_inner():\n",
    "\n",
    "        qreg = qasm2.qreg(num_qubits_program)\n",
    "\n",
    "        # Apply parallel U gate\n",
    "        qasm2.parallel.u(\n",
    "            list(qreg),    # Pass the list of qubits\n",
    "            theta=math.pi/2, # Specify the theta angle\n",
    "            phi=0,           # Specify the phi angle\n",
    "            lam=math.pi      # Specify the lambda angle\n",
    "        )\n",
    "\n",
    "        # Apply CZ and H gates sequentially\n",
    "        # Loop up to num_qubits_program\n",
    "        for i in range(1, num_qubits_program):\n",
    "            qasm2.cz(qreg[i - 1], qreg[i])\n",
    "            qasm2.h(qreg[i])\n",
    "\n",
    "    return GHZ_global_inner\n"
   ]
  },
  {
   "cell_type": "markdown",
   "id": "16887dc71194a20e",
   "metadata": {},
   "source": [
    "# GHZPrep Second Optimization\n",
    "The circuit which creates a GHZ state also has an alternate variant which greatly reduces its depth. The depth of a circuit is the number of time steps needed to execute the circuit to completion, which generally correlates with larger error the larger the depth is.\n",
    "<br><br>\n",
    "Here it can be reduced by changing the order in which CNOT gates are executed, allowing some to be done in parallel. Additionally, the same global-hadamard optimization can be made here. The circuit and a diagram are below.\n",
    "\n"
   ]
  },
  {
   "cell_type": "code",
   "execution_count": 4,
   "id": "c76d37c0d2823f21",
   "metadata": {
    "ExecuteTime": {
     "end_time": "2025-04-13T13:22:00.230116Z",
     "start_time": "2025-04-13T13:22:00.227749Z"
    }
   },
   "outputs": [],
   "source": [
    "def GHZ_parallel():\n",
    "\n",
    "    n = 3 #2**n qubits\n",
    "\n",
    "    @qasm2.extended\n",
    "    def GHZ_parallel_inner():\n",
    "        qreg = qasm2.qreg(2**n)\n",
    "\n",
    "        # Apply parallel U gate\n",
    "        qasm2.parallel.u(list(qreg),theta=math.pi/2,phi=0,lam=math.pi )\n",
    "\n",
    "        #layer 0, cz goes from 0 to n/2, layer 1, cz from 0 to n/4, n/2 to 3n/4, etc...\n",
    "        for layer in range(0, n):\n",
    "            for gate in range(0,2**layer):\n",
    "                qasm2.cz(qreg[gate*2**(n-layer-1)], qreg[(gate+1)*2**(n-layer-1)])\n",
    "\n",
    "    return GHZ_parallel_inner"
   ]
  },
  {
   "cell_type": "markdown",
   "id": "508f0fc3bdc7b544",
   "metadata": {},
   "source": [
    "![First optimization](image/IMG_9573.jpeg)"
   ]
  },
  {
   "cell_type": "code",
   "execution_count": 5,
   "id": "6a55ee8edd46d966",
   "metadata": {
    "ExecuteTime": {
     "end_time": "2025-04-13T13:22:00.233739Z",
     "start_time": "2025-04-13T13:22:00.232281Z"
    }
   },
   "outputs": [],
   "source": [
    "# Testing code with the Circuit Benchmarker\n",
    "from Benchmarker import Benchmark\n"
   ]
  }
 ],
 "metadata": {
  "kernelspec": {
   "display_name": "Python 3",
   "language": "python",
   "name": "python3"
  },
  "language_info": {
   "codemirror_mode": {
    "name": "ipython",
    "version": 3
   },
   "file_extension": ".py",
   "mimetype": "text/x-python",
   "name": "python",
   "nbconvert_exporter": "python",
   "pygments_lexer": "ipython3",
   "version": "3.11.11"
  }
 },
 "nbformat": 4,
 "nbformat_minor": 5
}
